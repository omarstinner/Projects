{
 "cells": [
  {
   "cell_type": "markdown",
   "id": "76e83b12",
   "metadata": {},
   "source": [
    "# Exploring Employee Exit Surveys"
   ]
  },
  {
   "cell_type": "markdown",
   "id": "1b637e90",
   "metadata": {},
   "source": [
    "## Introduction\n",
    "> Although it is more common for an employee to get fired, many employees also resign from their postings. People resign on many grounds, from having personal reasons to misconduct in the workplace. The focus of the project will be geared towards exploring ex-employees who have resigned from their jobs due to being dissatisfied. The aim of this project is  to answer the following questions:\n",
    "> - Are short-term employees resigning due to some kind of dissatisfaction? How about long-term employees?\n",
    "> - Are younger employees resigning due to some kind of dissatisfaction? How about older employees?\n",
    "\n",
    "> In order to answer the above questions, we will need to extract information from two datasets. For this reason, the focus of this project will be on combining, cleaning, and preparing to ensure a unified and coherent combined dataset. Towards the end of the notebook, we will answer the above questions. The first part of this notebook will focus on preparing, cleaning, and combining the datasets, while the second part will center on answering the above questions."
   ]
  },
  {
   "cell_type": "code",
   "execution_count": 1,
   "id": "01cfe9c8",
   "metadata": {},
   "outputs": [],
   "source": [
    "# Importing the Libraries\n",
    "import pandas as pd\n",
    "import numpy as np\n",
    "import matplotlib.pyplot as plt\n",
    "import matplotlib.style as style\n",
    "import seaborn as sns\n",
    "import datetime as dt\n",
    "pd.set_option('display.max_columns', None)\n",
    "\n",
    "import warnings\n",
    "warnings.filterwarnings(\"ignore\")"
   ]
  },
  {
   "cell_type": "code",
   "execution_count": 2,
   "id": "22efd7b2",
   "metadata": {},
   "outputs": [],
   "source": [
    "# Reading in the datasets, converting \"Not Stated\" values in the DETE dataset to NaN values\n",
    "dete_survey = pd.read_csv(\"/Users/omarstinner/Data Files/Python Projects/Files/Guided Project - Clean and Analyze Employee Exit Surveys/dete_survey.csv\", encoding = \"UTF-8\", na_values = \"Not Stated\")\n",
    "tafe_survey = pd.read_csv(\"/Users/omarstinner/Data Files/Python Projects/Files/Guided Project - Clean and Analyze Employee Exit Surveys/tafe_survey.csv\", encoding = \"Windows-1251\")"
   ]
  },
  {
   "cell_type": "code",
   "execution_count": 3,
   "id": "b8adc530",
   "metadata": {
    "scrolled": true
   },
   "outputs": [
    {
     "name": "stdout",
     "output_type": "stream",
     "text": [
      "<class 'pandas.core.frame.DataFrame'>\n",
      "RangeIndex: 822 entries, 0 to 821\n",
      "Data columns (total 56 columns):\n",
      " #   Column                               Non-Null Count  Dtype  \n",
      "---  ------                               --------------  -----  \n",
      " 0   ID                                   822 non-null    int64  \n",
      " 1   SeparationType                       822 non-null    object \n",
      " 2   Cease Date                           788 non-null    object \n",
      " 3   DETE Start Date                      749 non-null    float64\n",
      " 4   Role Start Date                      724 non-null    float64\n",
      " 5   Position                             817 non-null    object \n",
      " 6   Classification                       455 non-null    object \n",
      " 7   Region                               717 non-null    object \n",
      " 8   Business Unit                        126 non-null    object \n",
      " 9   Employment Status                    817 non-null    object \n",
      " 10  Career move to public sector         822 non-null    bool   \n",
      " 11  Career move to private sector        822 non-null    bool   \n",
      " 12  Interpersonal conflicts              822 non-null    bool   \n",
      " 13  Job dissatisfaction                  822 non-null    bool   \n",
      " 14  Dissatisfaction with the department  822 non-null    bool   \n",
      " 15  Physical work environment            822 non-null    bool   \n",
      " 16  Lack of recognition                  822 non-null    bool   \n",
      " 17  Lack of job security                 822 non-null    bool   \n",
      " 18  Work location                        822 non-null    bool   \n",
      " 19  Employment conditions                822 non-null    bool   \n",
      " 20  Maternity/family                     822 non-null    bool   \n",
      " 21  Relocation                           822 non-null    bool   \n",
      " 22  Study/Travel                         822 non-null    bool   \n",
      " 23  Ill Health                           822 non-null    bool   \n",
      " 24  Traumatic incident                   822 non-null    bool   \n",
      " 25  Work life balance                    822 non-null    bool   \n",
      " 26  Workload                             822 non-null    bool   \n",
      " 27  None of the above                    822 non-null    bool   \n",
      " 28  Professional Development             808 non-null    object \n",
      " 29  Opportunities for promotion          735 non-null    object \n",
      " 30  Staff morale                         816 non-null    object \n",
      " 31  Workplace issue                      788 non-null    object \n",
      " 32  Physical environment                 817 non-null    object \n",
      " 33  Worklife balance                     815 non-null    object \n",
      " 34  Stress and pressure support          810 non-null    object \n",
      " 35  Performance of supervisor            813 non-null    object \n",
      " 36  Peer support                         812 non-null    object \n",
      " 37  Initiative                           813 non-null    object \n",
      " 38  Skills                               811 non-null    object \n",
      " 39  Coach                                767 non-null    object \n",
      " 40  Career Aspirations                   746 non-null    object \n",
      " 41  Feedback                             792 non-null    object \n",
      " 42  Further PD                           768 non-null    object \n",
      " 43  Communication                        814 non-null    object \n",
      " 44  My say                               812 non-null    object \n",
      " 45  Information                          816 non-null    object \n",
      " 46  Kept informed                        813 non-null    object \n",
      " 47  Wellness programs                    766 non-null    object \n",
      " 48  Health & Safety                      793 non-null    object \n",
      " 49  Gender                               798 non-null    object \n",
      " 50  Age                                  811 non-null    object \n",
      " 51  Aboriginal                           16 non-null     object \n",
      " 52  Torres Strait                        3 non-null      object \n",
      " 53  South Sea                            7 non-null      object \n",
      " 54  Disability                           23 non-null     object \n",
      " 55  NESB                                 32 non-null     object \n",
      "dtypes: bool(18), float64(2), int64(1), object(35)\n",
      "memory usage: 258.6+ KB\n",
      "None\n"
     ]
    },
    {
     "data": {
      "text/html": [
       "<div>\n",
       "<style scoped>\n",
       "    .dataframe tbody tr th:only-of-type {\n",
       "        vertical-align: middle;\n",
       "    }\n",
       "\n",
       "    .dataframe tbody tr th {\n",
       "        vertical-align: top;\n",
       "    }\n",
       "\n",
       "    .dataframe thead th {\n",
       "        text-align: right;\n",
       "    }\n",
       "</style>\n",
       "<table border=\"1\" class=\"dataframe\">\n",
       "  <thead>\n",
       "    <tr style=\"text-align: right;\">\n",
       "      <th></th>\n",
       "      <th>ID</th>\n",
       "      <th>SeparationType</th>\n",
       "      <th>Cease Date</th>\n",
       "      <th>DETE Start Date</th>\n",
       "      <th>Role Start Date</th>\n",
       "      <th>Position</th>\n",
       "      <th>Classification</th>\n",
       "      <th>Region</th>\n",
       "      <th>Business Unit</th>\n",
       "      <th>Employment Status</th>\n",
       "      <th>Career move to public sector</th>\n",
       "      <th>Career move to private sector</th>\n",
       "      <th>Interpersonal conflicts</th>\n",
       "      <th>Job dissatisfaction</th>\n",
       "      <th>Dissatisfaction with the department</th>\n",
       "      <th>Physical work environment</th>\n",
       "      <th>Lack of recognition</th>\n",
       "      <th>Lack of job security</th>\n",
       "      <th>Work location</th>\n",
       "      <th>Employment conditions</th>\n",
       "      <th>Maternity/family</th>\n",
       "      <th>Relocation</th>\n",
       "      <th>Study/Travel</th>\n",
       "      <th>Ill Health</th>\n",
       "      <th>Traumatic incident</th>\n",
       "      <th>Work life balance</th>\n",
       "      <th>Workload</th>\n",
       "      <th>None of the above</th>\n",
       "      <th>Professional Development</th>\n",
       "      <th>Opportunities for promotion</th>\n",
       "      <th>Staff morale</th>\n",
       "      <th>Workplace issue</th>\n",
       "      <th>Physical environment</th>\n",
       "      <th>Worklife balance</th>\n",
       "      <th>Stress and pressure support</th>\n",
       "      <th>Performance of supervisor</th>\n",
       "      <th>Peer support</th>\n",
       "      <th>Initiative</th>\n",
       "      <th>Skills</th>\n",
       "      <th>Coach</th>\n",
       "      <th>Career Aspirations</th>\n",
       "      <th>Feedback</th>\n",
       "      <th>Further PD</th>\n",
       "      <th>Communication</th>\n",
       "      <th>My say</th>\n",
       "      <th>Information</th>\n",
       "      <th>Kept informed</th>\n",
       "      <th>Wellness programs</th>\n",
       "      <th>Health &amp; Safety</th>\n",
       "      <th>Gender</th>\n",
       "      <th>Age</th>\n",
       "      <th>Aboriginal</th>\n",
       "      <th>Torres Strait</th>\n",
       "      <th>South Sea</th>\n",
       "      <th>Disability</th>\n",
       "      <th>NESB</th>\n",
       "    </tr>\n",
       "  </thead>\n",
       "  <tbody>\n",
       "    <tr>\n",
       "      <th>0</th>\n",
       "      <td>1</td>\n",
       "      <td>Ill Health Retirement</td>\n",
       "      <td>08/2012</td>\n",
       "      <td>1984.0</td>\n",
       "      <td>2004.0</td>\n",
       "      <td>Public Servant</td>\n",
       "      <td>A01-A04</td>\n",
       "      <td>Central Office</td>\n",
       "      <td>Corporate Strategy and Peformance</td>\n",
       "      <td>Permanent Full-time</td>\n",
       "      <td>True</td>\n",
       "      <td>False</td>\n",
       "      <td>False</td>\n",
       "      <td>True</td>\n",
       "      <td>False</td>\n",
       "      <td>False</td>\n",
       "      <td>True</td>\n",
       "      <td>False</td>\n",
       "      <td>False</td>\n",
       "      <td>False</td>\n",
       "      <td>False</td>\n",
       "      <td>False</td>\n",
       "      <td>False</td>\n",
       "      <td>False</td>\n",
       "      <td>False</td>\n",
       "      <td>False</td>\n",
       "      <td>False</td>\n",
       "      <td>True</td>\n",
       "      <td>A</td>\n",
       "      <td>A</td>\n",
       "      <td>N</td>\n",
       "      <td>N</td>\n",
       "      <td>N</td>\n",
       "      <td>A</td>\n",
       "      <td>A</td>\n",
       "      <td>A</td>\n",
       "      <td>A</td>\n",
       "      <td>N</td>\n",
       "      <td>N</td>\n",
       "      <td>N</td>\n",
       "      <td>A</td>\n",
       "      <td>A</td>\n",
       "      <td>A</td>\n",
       "      <td>N</td>\n",
       "      <td>A</td>\n",
       "      <td>A</td>\n",
       "      <td>N</td>\n",
       "      <td>N</td>\n",
       "      <td>N</td>\n",
       "      <td>Male</td>\n",
       "      <td>56-60</td>\n",
       "      <td>NaN</td>\n",
       "      <td>NaN</td>\n",
       "      <td>NaN</td>\n",
       "      <td>NaN</td>\n",
       "      <td>Yes</td>\n",
       "    </tr>\n",
       "    <tr>\n",
       "      <th>1</th>\n",
       "      <td>2</td>\n",
       "      <td>Voluntary Early Retirement (VER)</td>\n",
       "      <td>08/2012</td>\n",
       "      <td>NaN</td>\n",
       "      <td>NaN</td>\n",
       "      <td>Public Servant</td>\n",
       "      <td>AO5-AO7</td>\n",
       "      <td>Central Office</td>\n",
       "      <td>Corporate Strategy and Peformance</td>\n",
       "      <td>Permanent Full-time</td>\n",
       "      <td>False</td>\n",
       "      <td>False</td>\n",
       "      <td>False</td>\n",
       "      <td>False</td>\n",
       "      <td>False</td>\n",
       "      <td>False</td>\n",
       "      <td>False</td>\n",
       "      <td>False</td>\n",
       "      <td>False</td>\n",
       "      <td>False</td>\n",
       "      <td>False</td>\n",
       "      <td>False</td>\n",
       "      <td>False</td>\n",
       "      <td>False</td>\n",
       "      <td>False</td>\n",
       "      <td>False</td>\n",
       "      <td>False</td>\n",
       "      <td>False</td>\n",
       "      <td>A</td>\n",
       "      <td>A</td>\n",
       "      <td>N</td>\n",
       "      <td>N</td>\n",
       "      <td>N</td>\n",
       "      <td>N</td>\n",
       "      <td>A</td>\n",
       "      <td>A</td>\n",
       "      <td>A</td>\n",
       "      <td>N</td>\n",
       "      <td>N</td>\n",
       "      <td>N</td>\n",
       "      <td>A</td>\n",
       "      <td>A</td>\n",
       "      <td>A</td>\n",
       "      <td>N</td>\n",
       "      <td>A</td>\n",
       "      <td>A</td>\n",
       "      <td>N</td>\n",
       "      <td>N</td>\n",
       "      <td>N</td>\n",
       "      <td>Male</td>\n",
       "      <td>56-60</td>\n",
       "      <td>NaN</td>\n",
       "      <td>NaN</td>\n",
       "      <td>NaN</td>\n",
       "      <td>NaN</td>\n",
       "      <td>NaN</td>\n",
       "    </tr>\n",
       "    <tr>\n",
       "      <th>2</th>\n",
       "      <td>3</td>\n",
       "      <td>Voluntary Early Retirement (VER)</td>\n",
       "      <td>05/2012</td>\n",
       "      <td>2011.0</td>\n",
       "      <td>2011.0</td>\n",
       "      <td>Schools Officer</td>\n",
       "      <td>NaN</td>\n",
       "      <td>Central Office</td>\n",
       "      <td>Education Queensland</td>\n",
       "      <td>Permanent Full-time</td>\n",
       "      <td>False</td>\n",
       "      <td>False</td>\n",
       "      <td>False</td>\n",
       "      <td>False</td>\n",
       "      <td>False</td>\n",
       "      <td>False</td>\n",
       "      <td>False</td>\n",
       "      <td>False</td>\n",
       "      <td>False</td>\n",
       "      <td>False</td>\n",
       "      <td>False</td>\n",
       "      <td>False</td>\n",
       "      <td>False</td>\n",
       "      <td>False</td>\n",
       "      <td>False</td>\n",
       "      <td>False</td>\n",
       "      <td>False</td>\n",
       "      <td>True</td>\n",
       "      <td>N</td>\n",
       "      <td>N</td>\n",
       "      <td>N</td>\n",
       "      <td>N</td>\n",
       "      <td>N</td>\n",
       "      <td>N</td>\n",
       "      <td>N</td>\n",
       "      <td>N</td>\n",
       "      <td>N</td>\n",
       "      <td>N</td>\n",
       "      <td>N</td>\n",
       "      <td>N</td>\n",
       "      <td>N</td>\n",
       "      <td>N</td>\n",
       "      <td>N</td>\n",
       "      <td>A</td>\n",
       "      <td>A</td>\n",
       "      <td>N</td>\n",
       "      <td>N</td>\n",
       "      <td>N</td>\n",
       "      <td>N</td>\n",
       "      <td>Male</td>\n",
       "      <td>61 or older</td>\n",
       "      <td>NaN</td>\n",
       "      <td>NaN</td>\n",
       "      <td>NaN</td>\n",
       "      <td>NaN</td>\n",
       "      <td>NaN</td>\n",
       "    </tr>\n",
       "    <tr>\n",
       "      <th>3</th>\n",
       "      <td>4</td>\n",
       "      <td>Resignation-Other reasons</td>\n",
       "      <td>05/2012</td>\n",
       "      <td>2005.0</td>\n",
       "      <td>2006.0</td>\n",
       "      <td>Teacher</td>\n",
       "      <td>Primary</td>\n",
       "      <td>Central Queensland</td>\n",
       "      <td>NaN</td>\n",
       "      <td>Permanent Full-time</td>\n",
       "      <td>False</td>\n",
       "      <td>True</td>\n",
       "      <td>False</td>\n",
       "      <td>False</td>\n",
       "      <td>False</td>\n",
       "      <td>False</td>\n",
       "      <td>False</td>\n",
       "      <td>False</td>\n",
       "      <td>False</td>\n",
       "      <td>False</td>\n",
       "      <td>False</td>\n",
       "      <td>False</td>\n",
       "      <td>False</td>\n",
       "      <td>False</td>\n",
       "      <td>False</td>\n",
       "      <td>False</td>\n",
       "      <td>False</td>\n",
       "      <td>False</td>\n",
       "      <td>A</td>\n",
       "      <td>N</td>\n",
       "      <td>N</td>\n",
       "      <td>N</td>\n",
       "      <td>A</td>\n",
       "      <td>A</td>\n",
       "      <td>N</td>\n",
       "      <td>N</td>\n",
       "      <td>A</td>\n",
       "      <td>A</td>\n",
       "      <td>A</td>\n",
       "      <td>A</td>\n",
       "      <td>A</td>\n",
       "      <td>A</td>\n",
       "      <td>A</td>\n",
       "      <td>A</td>\n",
       "      <td>A</td>\n",
       "      <td>A</td>\n",
       "      <td>A</td>\n",
       "      <td>N</td>\n",
       "      <td>A</td>\n",
       "      <td>Female</td>\n",
       "      <td>36-40</td>\n",
       "      <td>NaN</td>\n",
       "      <td>NaN</td>\n",
       "      <td>NaN</td>\n",
       "      <td>NaN</td>\n",
       "      <td>NaN</td>\n",
       "    </tr>\n",
       "    <tr>\n",
       "      <th>4</th>\n",
       "      <td>5</td>\n",
       "      <td>Age Retirement</td>\n",
       "      <td>05/2012</td>\n",
       "      <td>1970.0</td>\n",
       "      <td>1989.0</td>\n",
       "      <td>Head of Curriculum/Head of Special Education</td>\n",
       "      <td>NaN</td>\n",
       "      <td>South East</td>\n",
       "      <td>NaN</td>\n",
       "      <td>Permanent Full-time</td>\n",
       "      <td>False</td>\n",
       "      <td>False</td>\n",
       "      <td>False</td>\n",
       "      <td>False</td>\n",
       "      <td>False</td>\n",
       "      <td>False</td>\n",
       "      <td>False</td>\n",
       "      <td>False</td>\n",
       "      <td>False</td>\n",
       "      <td>False</td>\n",
       "      <td>False</td>\n",
       "      <td>False</td>\n",
       "      <td>False</td>\n",
       "      <td>False</td>\n",
       "      <td>False</td>\n",
       "      <td>True</td>\n",
       "      <td>False</td>\n",
       "      <td>False</td>\n",
       "      <td>A</td>\n",
       "      <td>A</td>\n",
       "      <td>N</td>\n",
       "      <td>N</td>\n",
       "      <td>D</td>\n",
       "      <td>D</td>\n",
       "      <td>N</td>\n",
       "      <td>A</td>\n",
       "      <td>A</td>\n",
       "      <td>A</td>\n",
       "      <td>A</td>\n",
       "      <td>A</td>\n",
       "      <td>A</td>\n",
       "      <td>SA</td>\n",
       "      <td>SA</td>\n",
       "      <td>D</td>\n",
       "      <td>D</td>\n",
       "      <td>A</td>\n",
       "      <td>N</td>\n",
       "      <td>A</td>\n",
       "      <td>M</td>\n",
       "      <td>Female</td>\n",
       "      <td>61 or older</td>\n",
       "      <td>NaN</td>\n",
       "      <td>NaN</td>\n",
       "      <td>NaN</td>\n",
       "      <td>NaN</td>\n",
       "      <td>NaN</td>\n",
       "    </tr>\n",
       "  </tbody>\n",
       "</table>\n",
       "</div>"
      ],
      "text/plain": [
       "   ID                    SeparationType Cease Date  DETE Start Date  \\\n",
       "0   1             Ill Health Retirement    08/2012           1984.0   \n",
       "1   2  Voluntary Early Retirement (VER)    08/2012              NaN   \n",
       "2   3  Voluntary Early Retirement (VER)    05/2012           2011.0   \n",
       "3   4         Resignation-Other reasons    05/2012           2005.0   \n",
       "4   5                    Age Retirement    05/2012           1970.0   \n",
       "\n",
       "   Role Start Date                                      Position  \\\n",
       "0           2004.0                                Public Servant   \n",
       "1              NaN                                Public Servant   \n",
       "2           2011.0                               Schools Officer   \n",
       "3           2006.0                                       Teacher   \n",
       "4           1989.0  Head of Curriculum/Head of Special Education   \n",
       "\n",
       "  Classification              Region                      Business Unit  \\\n",
       "0        A01-A04      Central Office  Corporate Strategy and Peformance   \n",
       "1        AO5-AO7      Central Office  Corporate Strategy and Peformance   \n",
       "2            NaN      Central Office               Education Queensland   \n",
       "3        Primary  Central Queensland                                NaN   \n",
       "4            NaN          South East                                NaN   \n",
       "\n",
       "     Employment Status  Career move to public sector  \\\n",
       "0  Permanent Full-time                          True   \n",
       "1  Permanent Full-time                         False   \n",
       "2  Permanent Full-time                         False   \n",
       "3  Permanent Full-time                         False   \n",
       "4  Permanent Full-time                         False   \n",
       "\n",
       "   Career move to private sector  Interpersonal conflicts  \\\n",
       "0                          False                    False   \n",
       "1                          False                    False   \n",
       "2                          False                    False   \n",
       "3                           True                    False   \n",
       "4                          False                    False   \n",
       "\n",
       "   Job dissatisfaction  Dissatisfaction with the department  \\\n",
       "0                 True                                False   \n",
       "1                False                                False   \n",
       "2                False                                False   \n",
       "3                False                                False   \n",
       "4                False                                False   \n",
       "\n",
       "   Physical work environment  Lack of recognition  Lack of job security  \\\n",
       "0                      False                 True                 False   \n",
       "1                      False                False                 False   \n",
       "2                      False                False                 False   \n",
       "3                      False                False                 False   \n",
       "4                      False                False                 False   \n",
       "\n",
       "   Work location  Employment conditions  Maternity/family  Relocation  \\\n",
       "0          False                  False             False       False   \n",
       "1          False                  False             False       False   \n",
       "2          False                  False             False       False   \n",
       "3          False                  False             False       False   \n",
       "4          False                  False             False       False   \n",
       "\n",
       "   Study/Travel  Ill Health  Traumatic incident  Work life balance  Workload  \\\n",
       "0         False       False               False              False     False   \n",
       "1         False       False               False              False     False   \n",
       "2         False       False               False              False     False   \n",
       "3         False       False               False              False     False   \n",
       "4         False       False               False               True     False   \n",
       "\n",
       "   None of the above Professional Development Opportunities for promotion  \\\n",
       "0               True                        A                           A   \n",
       "1              False                        A                           A   \n",
       "2               True                        N                           N   \n",
       "3              False                        A                           N   \n",
       "4              False                        A                           A   \n",
       "\n",
       "  Staff morale Workplace issue Physical environment Worklife balance  \\\n",
       "0            N               N                    N                A   \n",
       "1            N               N                    N                N   \n",
       "2            N               N                    N                N   \n",
       "3            N               N                    A                A   \n",
       "4            N               N                    D                D   \n",
       "\n",
       "  Stress and pressure support Performance of supervisor Peer support  \\\n",
       "0                           A                         A            A   \n",
       "1                           A                         A            A   \n",
       "2                           N                         N            N   \n",
       "3                           N                         N            A   \n",
       "4                           N                         A            A   \n",
       "\n",
       "  Initiative Skills Coach Career Aspirations Feedback Further PD  \\\n",
       "0          N      N     N                  A        A          A   \n",
       "1          N      N     N                  A        A          A   \n",
       "2          N      N     N                  N        N          N   \n",
       "3          A      A     A                  A        A          A   \n",
       "4          A      A     A                  A       SA         SA   \n",
       "\n",
       "  Communication My say Information Kept informed Wellness programs  \\\n",
       "0             N      A           A             N                 N   \n",
       "1             N      A           A             N                 N   \n",
       "2             A      A           N             N                 N   \n",
       "3             A      A           A             A                 N   \n",
       "4             D      D           A             N                 A   \n",
       "\n",
       "  Health & Safety  Gender          Age Aboriginal Torres Strait South Sea  \\\n",
       "0               N    Male        56-60        NaN           NaN       NaN   \n",
       "1               N    Male        56-60        NaN           NaN       NaN   \n",
       "2               N    Male  61 or older        NaN           NaN       NaN   \n",
       "3               A  Female        36-40        NaN           NaN       NaN   \n",
       "4               M  Female  61 or older        NaN           NaN       NaN   \n",
       "\n",
       "  Disability NESB  \n",
       "0        NaN  Yes  \n",
       "1        NaN  NaN  \n",
       "2        NaN  NaN  \n",
       "3        NaN  NaN  \n",
       "4        NaN  NaN  "
      ]
     },
     "metadata": {},
     "output_type": "display_data"
    },
    {
     "data": {
      "text/plain": [
       "2012       344\n",
       "2013       200\n",
       "01/2014     43\n",
       "12/2013     40\n",
       "09/2013     34\n",
       "06/2013     27\n",
       "07/2013     22\n",
       "10/2013     20\n",
       "11/2013     16\n",
       "08/2013     12\n",
       "05/2013      7\n",
       "05/2012      6\n",
       "08/2012      2\n",
       "04/2013      2\n",
       "04/2014      2\n",
       "07/2014      2\n",
       "02/2014      2\n",
       "2010         1\n",
       "07/2006      1\n",
       "11/2012      1\n",
       "09/2010      1\n",
       "2014         1\n",
       "09/2014      1\n",
       "07/2012      1\n",
       "Name: Cease Date, dtype: int64"
      ]
     },
     "execution_count": 3,
     "metadata": {},
     "output_type": "execute_result"
    }
   ],
   "source": [
    "print(dete_survey.info())\n",
    "display(dete_survey.head())\n",
    "dete_survey[\"Cease Date\"].value_counts()"
   ]
  },
  {
   "cell_type": "markdown",
   "id": "cfec4b8a",
   "metadata": {},
   "source": [
    "> Before we clean, prepare, and analyze the data, lets us take a brief look at a summary of the \"dete_survey\" dataset. The dataset has 56 columns, most of which we will not use. We have the records of 822 ex-employees. The last few columns are populated with many null values - columns that will probably also drop. The columns seem to be assigned the correct datatypes apart from the date-related columns which should be converted to the datetime datatype. Columns 10 to 27 all seem to be answer options to a question regarding the reason for leaving the DETE institute. These columns have a bool datatype, meaning the method of answering is of the form \"select which applies to you\". The columns we are interested in are \"ID\", \"SeperationType\", \"Cease Date\", \"DETE Start Date\", \"Role Start\", \"Position\", \"Region\", \"Employment Status\", \"Gender\", \"Age\", and all the answer columns regarding job dissatisfaction. These columns all seem to be relevant in answering the questions at hand. Of the selected columns, \"Cease Date\" has formatting issues. The dates are in the format YEAR and MONTH/YEAR, meaning we’ll have to decide on a unified format for all the values."
   ]
  },
  {
   "cell_type": "code",
   "execution_count": 4,
   "id": "88647ed0",
   "metadata": {
    "scrolled": true
   },
   "outputs": [
    {
     "name": "stdout",
     "output_type": "stream",
     "text": [
      "<class 'pandas.core.frame.DataFrame'>\n",
      "RangeIndex: 702 entries, 0 to 701\n",
      "Data columns (total 72 columns):\n",
      " #   Column                                                                                                                                                         Non-Null Count  Dtype  \n",
      "---  ------                                                                                                                                                         --------------  -----  \n",
      " 0   Record ID                                                                                                                                                      702 non-null    float64\n",
      " 1   Institute                                                                                                                                                      702 non-null    object \n",
      " 2   WorkArea                                                                                                                                                       702 non-null    object \n",
      " 3   CESSATION YEAR                                                                                                                                                 695 non-null    float64\n",
      " 4   Reason for ceasing employment                                                                                                                                  701 non-null    object \n",
      " 5   Contributing Factors. Career Move - Public Sector                                                                                                              437 non-null    object \n",
      " 6   Contributing Factors. Career Move - Private Sector                                                                                                             437 non-null    object \n",
      " 7   Contributing Factors. Career Move - Self-employment                                                                                                            437 non-null    object \n",
      " 8   Contributing Factors. Ill Health                                                                                                                               437 non-null    object \n",
      " 9   Contributing Factors. Maternity/Family                                                                                                                         437 non-null    object \n",
      " 10  Contributing Factors. Dissatisfaction                                                                                                                          437 non-null    object \n",
      " 11  Contributing Factors. Job Dissatisfaction                                                                                                                      437 non-null    object \n",
      " 12  Contributing Factors. Interpersonal Conflict                                                                                                                   437 non-null    object \n",
      " 13  Contributing Factors. Study                                                                                                                                    437 non-null    object \n",
      " 14  Contributing Factors. Travel                                                                                                                                   437 non-null    object \n",
      " 15  Contributing Factors. Other                                                                                                                                    437 non-null    object \n",
      " 16  Contributing Factors. NONE                                                                                                                                     437 non-null    object \n",
      " 17  Main Factor. Which of these was the main factor for leaving?                                                                                                   113 non-null    object \n",
      " 18  InstituteViews. Topic:1. I feel the senior leadership had a clear vision and direction                                                                         608 non-null    object \n",
      " 19  InstituteViews. Topic:2. I was given access to skills training to help me do my job better                                                                     613 non-null    object \n",
      " 20  InstituteViews. Topic:3. I was given adequate opportunities for personal development                                                                           610 non-null    object \n",
      " 21  InstituteViews. Topic:4. I was given adequate opportunities for promotion within %Institute]Q25LBL%                                                            608 non-null    object \n",
      " 22  InstituteViews. Topic:5. I felt the salary for the job was right for the responsibilities I had                                                                615 non-null    object \n",
      " 23  InstituteViews. Topic:6. The organisation recognised when staff did good work                                                                                  607 non-null    object \n",
      " 24  InstituteViews. Topic:7. Management was generally supportive of me                                                                                             614 non-null    object \n",
      " 25  InstituteViews. Topic:8. Management was generally supportive of my team                                                                                        608 non-null    object \n",
      " 26  InstituteViews. Topic:9. I was kept informed of the changes in the organisation which would affect me                                                          610 non-null    object \n",
      " 27  InstituteViews. Topic:10. Staff morale was positive within the Institute                                                                                       602 non-null    object \n",
      " 28  InstituteViews. Topic:11. If I had a workplace issue it was dealt with quickly                                                                                 601 non-null    object \n",
      " 29  InstituteViews. Topic:12. If I had a workplace issue it was dealt with efficiently                                                                             597 non-null    object \n",
      " 30  InstituteViews. Topic:13. If I had a workplace issue it was dealt with discreetly                                                                              601 non-null    object \n",
      " 31  WorkUnitViews. Topic:14. I was satisfied with the quality of the management and supervision within my work unit                                                609 non-null    object \n",
      " 32  WorkUnitViews. Topic:15. I worked well with my colleagues                                                                                                      605 non-null    object \n",
      " 33  WorkUnitViews. Topic:16. My job was challenging and interesting                                                                                                607 non-null    object \n",
      " 34  WorkUnitViews. Topic:17. I was encouraged to use my initiative in the course of my work                                                                        610 non-null    object \n",
      " 35  WorkUnitViews. Topic:18. I had sufficient contact with other people in my job                                                                                  613 non-null    object \n",
      " 36  WorkUnitViews. Topic:19. I was given adequate support and co-operation by my peers to enable me to do my job                                                   609 non-null    object \n",
      " 37  WorkUnitViews. Topic:20. I was able to use the full range of my skills in my job                                                                               609 non-null    object \n",
      " 38  WorkUnitViews. Topic:21. I was able to use the full range of my abilities in my job. ; Category:Level of Agreement; Question:YOUR VIEWS ABOUT YOUR WORK UNIT]  608 non-null    object \n",
      " 39  WorkUnitViews. Topic:22. I was able to use the full range of my knowledge in my job                                                                            608 non-null    object \n",
      " 40  WorkUnitViews. Topic:23. My job provided sufficient variety                                                                                                    611 non-null    object \n",
      " 41  WorkUnitViews. Topic:24. I was able to cope with the level of stress and pressure in my job                                                                    610 non-null    object \n",
      " 42  WorkUnitViews. Topic:25. My job allowed me to balance the demands of work and family to my satisfaction                                                        611 non-null    object \n",
      " 43  WorkUnitViews. Topic:26. My supervisor gave me adequate personal recognition and feedback on my performance                                                    606 non-null    object \n",
      " 44  WorkUnitViews. Topic:27. My working environment was satisfactory e.g. sufficient space, good lighting, suitable seating and working area                       610 non-null    object \n",
      " 45  WorkUnitViews. Topic:28. I was given the opportunity to mentor and coach others in order for me to pass on my skills and knowledge prior to my cessation date  609 non-null    object \n",
      " 46  WorkUnitViews. Topic:29. There was adequate communication between staff in my unit                                                                             603 non-null    object \n",
      " 47  WorkUnitViews. Topic:30. Staff morale was positive within my work unit                                                                                         606 non-null    object \n",
      " 48  Induction. Did you undertake Workplace Induction?                                                                                                              619 non-null    object \n",
      " 49  InductionInfo. Topic:Did you undertake a Corporate Induction?                                                                                                  432 non-null    object \n",
      " 50  InductionInfo. Topic:Did you undertake a Institute Induction?                                                                                                  483 non-null    object \n",
      " 51  InductionInfo. Topic: Did you undertake Team Induction?                                                                                                        440 non-null    object \n",
      " 52  InductionInfo. Face to Face Topic:Did you undertake a Corporate Induction; Category:How it was conducted?                                                      555 non-null    object \n",
      " 53  InductionInfo. On-line Topic:Did you undertake a Corporate Induction; Category:How it was conducted?                                                           555 non-null    object \n",
      " 54  InductionInfo. Induction Manual Topic:Did you undertake a Corporate Induction?                                                                                 555 non-null    object \n",
      " 55  InductionInfo. Face to Face Topic:Did you undertake a Institute Induction?                                                                                     530 non-null    object \n",
      " 56  InductionInfo. On-line Topic:Did you undertake a Institute Induction?                                                                                          555 non-null    object \n",
      " 57  InductionInfo. Induction Manual Topic:Did you undertake a Institute Induction?                                                                                 553 non-null    object \n",
      " 58  InductionInfo. Face to Face Topic: Did you undertake Team Induction; Category?                                                                                 555 non-null    object \n",
      " 59  InductionInfo. On-line Topic: Did you undertake Team Induction?process you undertook and how it was conducted.]                                                555 non-null    object \n",
      " 60  InductionInfo. Induction Manual Topic: Did you undertake Team Induction?                                                                                       555 non-null    object \n",
      " 61  Workplace. Topic:Did you and your Manager develop a Performance and Professional Development Plan (PPDP)?                                                      608 non-null    object \n",
      " 62  Workplace. Topic:Does your workplace promote a work culture free from all forms of unlawful discrimination?                                                    594 non-null    object \n",
      " 63  Workplace. Topic:Does your workplace promote and practice the principles of employment equity?                                                                 587 non-null    object \n",
      " 64  Workplace. Topic:Does your workplace value the diversity of its employees?                                                                                     586 non-null    object \n",
      " 65  Workplace. Topic:Would you recommend the Institute as an employer to others?                                                                                   581 non-null    object \n",
      " 66  Gender. What is your Gender?                                                                                                                                   596 non-null    object \n",
      " 67  CurrentAge. Current Age                                                                                                                                        596 non-null    object \n",
      " 68  Employment Type. Employment Type                                                                                                                               596 non-null    object \n",
      " 69  Classification. Classification                                                                                                                                 596 non-null    object \n",
      " 70  LengthofServiceOverall. Overall Length of Service at Institute (in years)                                                                                      596 non-null    object \n",
      " 71  LengthofServiceCurrent. Length of Service at current workplace (in years)                                                                                      596 non-null    object \n",
      "dtypes: float64(2), object(70)\n",
      "memory usage: 395.0+ KB\n",
      "None\n"
     ]
    },
    {
     "data": {
      "text/plain": [
       "Non-Delivery (corporate)    432\n",
       "Delivery (teaching)         270\n",
       "Name: WorkArea, dtype: int64"
      ]
     },
     "execution_count": 4,
     "metadata": {},
     "output_type": "execute_result"
    }
   ],
   "source": [
    "print(tafe_survey.info())\n",
    "tafe_survey.head()\n",
    "tafe_survey[\"WorkArea\"].value_counts()"
   ]
  },
  {
   "cell_type": "markdown",
   "id": "d25dcfd4",
   "metadata": {},
   "source": [
    "> Similar to the  \"dete_survey\", the \"tafe_survey\" is also populated with many columns that will not help us answer our questions. Columns 17 to 66 represent answers to questions that are either redundant or are useless to our analysis. The \"question\" columns that we will need are columns 5 to 16, which help us identify the reason for an ex-employees resignation. It seems like the columns have been assigned the correct data type. The columns that we are interested in are: \"Record ID\",\"Institute\",\"WorkArea\",\"CESSATION YEAR\",\"Reason for ceasing employment\",\"Contributing Factors. Dissatisfaction\",\"Contributing Factors. Job Dissatisfaction\",\"Gender\",\"Age\",\"Employment Type\",\"LengthofServiceOverall...\". Exploring a little further into our selected columns, we see that the format of values in \"Record ID\" are in scientific notation. This shouldn't be an issue as we are mostly using this column to uniquely identify ex-employees. There are only two unique values in the \"WorkArea\" column - ex-employees either worked in corporate roles or teaching roles. The \"Age\" columns are measured in intervals. The \"Length of Service\" column is also measured in intervals."
   ]
  },
  {
   "cell_type": "markdown",
   "id": "1d02bdcb",
   "metadata": {},
   "source": [
    "## Part 1: Cleaning and Preparing The Data"
   ]
  },
  {
   "cell_type": "code",
   "execution_count": 5,
   "id": "1d17a389",
   "metadata": {},
   "outputs": [],
   "source": [
    "# Dropping columns that we don't need from both DataFrames\n",
    "dete_survey_updated = dete_survey.drop(dete_survey.columns[28:49], axis = 1)\n",
    "tafe_survey_updated = tafe_survey.drop(tafe_survey.columns[17:66], axis = 1)"
   ]
  },
  {
   "cell_type": "code",
   "execution_count": 6,
   "id": "50f581ba",
   "metadata": {},
   "outputs": [],
   "source": [
    "# Renaming the columns in both dataframes for better readability and accessability\n",
    "dete_survey_updated.columns = dete_survey_updated.columns.str.lower().str.replace(\" \", \"_\").str.strip()\n",
    "dete_survey_updated.rename({\"separationtype\":\"separation_type\"}, axis = 1, inplace = True)\n",
    "\n",
    "tafe_column_names_dict = {'Record ID': 'id',\n",
    "'CESSATION YEAR': 'cease_date',\n",
    "'Reason for ceasing employment': 'separation_type',\n",
    "'Gender. What is your Gender?': 'gender',\n",
    "'CurrentAge. Current Age': 'age',\n",
    "'Employment Type. Employment Type': 'employment_status',\n",
    "'Classification. Classification': 'position',\n",
    "'LengthofServiceOverall. Overall Length of Service at Institute (in years)': 'institute_service',\n",
    "'LengthofServiceCurrent. Length of Service at current workplace (in years)': 'role_service', \n",
    "}\n",
    "\n",
    "tafe_survey_updated.rename(tafe_column_names_dict, axis = 1, inplace = True)"
   ]
  },
  {
   "cell_type": "code",
   "execution_count": 7,
   "id": "9a8fafbe",
   "metadata": {},
   "outputs": [],
   "source": [
    "# Selecting only the rows where 'separation_type' = \"Resignation\" in both datasets\n",
    "dete_resignations = dete_survey_updated[dete_survey_updated[\"separation_type\"].str.contains(\"Resignation\")]\n",
    "tafe_resignations = tafe_survey_updated[tafe_survey_updated[\"separation_type\"] == \"Resignation\"]"
   ]
  },
  {
   "cell_type": "markdown",
   "id": "79b64aba",
   "metadata": {},
   "source": [
    "> In this analysis, we are only interested in employees who resigned from their roles at their respective institutes, which is why we are filtering for employees who resigned."
   ]
  },
  {
   "cell_type": "code",
   "execution_count": 8,
   "id": "85bdcac6",
   "metadata": {},
   "outputs": [],
   "source": [
    "# Cleaning and reformatting the \"cease_date\" column\n",
    "pattern = r\"([2][0-9]{3})\"\n",
    "dete_resignations[\"cease_date\"] = dete_resignations[\"cease_date\"].str.extract(pattern).astype(\"float\")"
   ]
  },
  {
   "cell_type": "markdown",
   "id": "6f55e1f0",
   "metadata": {},
   "source": [
    "> We are cleaning the \"cease_date\" column of the dete_survey dataset so that we can perform mathematical operations on it and later calculate the number of years ex-employees worked at the institute."
   ]
  },
  {
   "cell_type": "code",
   "execution_count": 9,
   "id": "1964cdf7",
   "metadata": {},
   "outputs": [],
   "source": [
    "# Creating new \"institute_service\" column\n",
    "dete_resignations[\"institute_service\"] = dete_resignations[\"cease_date\"] - dete_resignations[\"dete_start_date\"]"
   ]
  },
  {
   "cell_type": "markdown",
   "id": "83023b31",
   "metadata": {},
   "source": [
    "> We are now calculating the number of years an ex-employee has worked at the DETE institute."
   ]
  },
  {
   "cell_type": "code",
   "execution_count": 10,
   "id": "8862f241",
   "metadata": {},
   "outputs": [],
   "source": [
    "# we are going to conver the values in columns \"Contributing Factors. Dissatisfaction\" & \"Contributing Factors. Job Dissatisfaction\" to True/Flase/NaN values\n",
    "def update_vals(element):\n",
    "    if element == \"-\":\n",
    "        return False\n",
    "    if pd.isnull(element):\n",
    "        return np.nan\n",
    "    else:\n",
    "        return True\n",
    "    \n",
    "tafe_resignations[[\"Contributing Factors. Dissatisfaction\",\"Contributing Factors. Job Dissatisfaction\"]] = tafe_resignations[[\"Contributing Factors. Dissatisfaction\",\"Contributing Factors. Job Dissatisfaction\"]].applymap(update_vals)"
   ]
  },
  {
   "cell_type": "markdown",
   "id": "32afc618",
   "metadata": {},
   "source": [
    "> Converting the values in the \"Contributing Factors. Dissatisfaction\" & Contributing Factors. Job Dissatisfaction\" to True/False values for an easier deduction of whether an employee was dissatisfied or not."
   ]
  },
  {
   "cell_type": "code",
   "execution_count": 11,
   "id": "9c4dde42",
   "metadata": {},
   "outputs": [
    {
     "data": {
      "text/html": [
       "<div>\n",
       "<style scoped>\n",
       "    .dataframe tbody tr th:only-of-type {\n",
       "        vertical-align: middle;\n",
       "    }\n",
       "\n",
       "    .dataframe tbody tr th {\n",
       "        vertical-align: top;\n",
       "    }\n",
       "\n",
       "    .dataframe thead th {\n",
       "        text-align: right;\n",
       "    }\n",
       "</style>\n",
       "<table border=\"1\" class=\"dataframe\">\n",
       "  <thead>\n",
       "    <tr style=\"text-align: right;\">\n",
       "      <th></th>\n",
       "      <th>Contributing Factors. Dissatisfaction</th>\n",
       "      <th>Contributing Factors. Job Dissatisfaction</th>\n",
       "    </tr>\n",
       "  </thead>\n",
       "  <tbody>\n",
       "    <tr>\n",
       "      <th>False</th>\n",
       "      <td>277</td>\n",
       "      <td>270</td>\n",
       "    </tr>\n",
       "    <tr>\n",
       "      <th>True</th>\n",
       "      <td>55</td>\n",
       "      <td>62</td>\n",
       "    </tr>\n",
       "  </tbody>\n",
       "</table>\n",
       "</div>"
      ],
      "text/plain": [
       "       Contributing Factors. Dissatisfaction  \\\n",
       "False                                    277   \n",
       "True                                      55   \n",
       "\n",
       "       Contributing Factors. Job Dissatisfaction  \n",
       "False                                        270  \n",
       "True                                          62  "
      ]
     },
     "execution_count": 11,
     "metadata": {},
     "output_type": "execute_result"
    }
   ],
   "source": [
    "# Creating a value_counts function\n",
    "def dfvalue_counts(data, col_list):\n",
    "    dataframe = pd.DataFrame()\n",
    "    for col in col_list:\n",
    "        dataframe[col] = data[col].value_counts()\n",
    "        \n",
    "    return dataframe\n",
    "\n",
    "dfvalue_counts(tafe_resignations, [\"Contributing Factors. Dissatisfaction\",\"Contributing Factors. Job Dissatisfaction\"])"
   ]
  },
  {
   "cell_type": "markdown",
   "id": "0b941359",
   "metadata": {},
   "source": [
    "> Quickly exploring how many people were simply just \"dissatisfied\" and how many were dissatisfied with their job. Either way, for the purpose of this analysis, if an employee answers true for any of these options, he/she will be considered \"dissatisfied\"."
   ]
  },
  {
   "cell_type": "code",
   "execution_count": 12,
   "id": "18ba4a42",
   "metadata": {},
   "outputs": [],
   "source": [
    "# Creating a \"dissatisfied\" column for both datasets\n",
    "dete_resignations[\"dissatisfied\"] = dete_resignations[[\"job_dissatisfaction\", \"dissatisfaction_with_the_department\",\"physical_work_environment\",\"lack_of_recognition\",\"lack_of_job_security\",\"work_location\",\"employment_conditions\",\"work_life_balance\",\"workload\"]].any(axis = 1, skipna = False)\n",
    "tafe_resignations[\"dissatisfied\"] = tafe_resignations[[\"Contributing Factors. Dissatisfaction\",\"Contributing Factors. Job Dissatisfaction\"]].any(axis = 1, skipna = False)"
   ]
  },
  {
   "cell_type": "markdown",
   "id": "6d802a30",
   "metadata": {},
   "source": [
    "> Categorizing an ex-employee as either dissatisfied or not with boolean values. True = dissatisfied, False = not dissatisfied."
   ]
  },
  {
   "cell_type": "code",
   "execution_count": 13,
   "id": "4fbe4dd9",
   "metadata": {},
   "outputs": [],
   "source": [
    "# Creating new columns in each dataset so that we we can distinguish between \n",
    "dete_resignations[\"institute\"] = \"DETE\"\n",
    "tafe_resignations[\"institute\"] = \"TAFE\""
   ]
  },
  {
   "cell_type": "markdown",
   "id": "b6c5e5e2",
   "metadata": {},
   "source": [
    "> Creating an \"Institute\" column to distinguish between the employees of each institute."
   ]
  },
  {
   "cell_type": "code",
   "execution_count": 14,
   "id": "13627e6b",
   "metadata": {},
   "outputs": [],
   "source": [
    "# Combining both datasets together\n",
    "combined = pd.concat([dete_resignations, tafe_resignations])"
   ]
  },
  {
   "cell_type": "code",
   "execution_count": 15,
   "id": "9babc053",
   "metadata": {},
   "outputs": [],
   "source": [
    "# Removing columns that have less than 500 non-null values\n",
    "combined_updated = combined.dropna(thresh = 500, axis = 1)"
   ]
  },
  {
   "cell_type": "markdown",
   "id": "7c6ac101",
   "metadata": {},
   "source": [
    "> Columns with less than 500 non-null values are deemed invaluable as we won’t be able to derive any insights from them."
   ]
  },
  {
   "cell_type": "code",
   "execution_count": 16,
   "id": "76a42558",
   "metadata": {},
   "outputs": [],
   "source": [
    "combined_updated[\"institute_service\"] = combined_updated[\"institute_service\"].replace(\"NaN\", np.nan)"
   ]
  },
  {
   "cell_type": "code",
   "execution_count": 17,
   "id": "fc1162fd",
   "metadata": {},
   "outputs": [],
   "source": [
    "# Cleaning the \"institute_service\" column of the combined dataset\n",
    "def midpoint(element):\n",
    "    if \"-\" in str(element):\n",
    "        split = str(element).split(\"-\")\n",
    "        midpoint = round((int(split[0]) + int(split[1]) / 2))\n",
    "        return midpoint\n",
    "    elif element == \"Less than 1 year\":\n",
    "        return 0\n",
    "    elif element == \"More than 20 years\":\n",
    "        return 21\n",
    "    else:\n",
    "        return element\n",
    "        \n",
    "combined_updated[\"institute_service\"] = combined_updated[\"institute_service\"].apply(midpoint)"
   ]
  },
  {
   "cell_type": "markdown",
   "id": "08437dc2",
   "metadata": {},
   "source": [
    "> There are a number of different formats for the values in the \"institute_service\" column. The function unifies the format and outputs integers. we have also decided to recognize 0 years as a length of working experience. It represents the couple of months an employee had worked at their respective institutes. We have decided to use the midway point as the number of years a person has worked at his/her respective institue as it will allow us to perform calculations on the column later. We have also decided to assign those who had more than 20 years of experience 21 years. This was done because it will make it possible to perform operations on the column. Assigning such employees a tenure of 21, even if they worked for more years will not affect our results, since we will be placing employees into tenure buckets in the coming cells. And those who serviced for 11 years or more will be categorized as \"veterans\"."
   ]
  },
  {
   "cell_type": "code",
   "execution_count": 18,
   "id": "8ceb331a",
   "metadata": {},
   "outputs": [],
   "source": [
    "# Cleaning the Age column\n",
    "def age_converter(element):\n",
    "    if \"-\" in str(element):\n",
    "        split = str(element).split(\"-\")\n",
    "        midpoint = round((int(split[0]) + int(split[1]) / 2))\n",
    "        return midpoint\n",
    "    elif \"younger\" in str(element) or \"older\" in str(element):\n",
    "        return element.split(\" \")[0]\n",
    "    elif \"  \" in str(element):\n",
    "        split = str(element).split(\"  \")\n",
    "        midpoint = round((int(split[0]) + int(split[1]) / 2))\n",
    "        return midpoint\n",
    "    else:\n",
    "        return element\n",
    "\n",
    "combined_updated[\"age\"] = combined_updated[\"age\"].apply(age_converter)\n",
    "combined_updated[\"age\"] = pd.to_numeric(combined_updated[\"age\"])"
   ]
  },
  {
   "cell_type": "markdown",
   "id": "49fc4cfb",
   "metadata": {},
   "source": [
    "> We are cleaning the \"age\" column. As we did before, for values that were age intervals, we calculated the midway point as it allows to perform mathematical operations on the column."
   ]
  },
  {
   "cell_type": "code",
   "execution_count": 19,
   "id": "cb2b7ed5",
   "metadata": {},
   "outputs": [],
   "source": [
    "# Categorizing the values in the \"institute_service\" as either new, experienced, established, or veteran depending the employees years fo service\n",
    "def experience_level(element):\n",
    "    if pd.isnull(element):\n",
    "        return element\n",
    "    elif int(element) < 3:\n",
    "        return \"new\"\n",
    "    elif int(element) >= 3 and int(element) <= 6:\n",
    "        return \"experienced\"\n",
    "    elif int(element) >= 7 and int(element) <= 10:\n",
    "        return \"established\"\n",
    "    elif int(element) >= 11:\n",
    "        return \"veteran\"\n",
    "\n",
    "combined_updated[\"institute_service\"] = combined_updated[\"institute_service\"].apply(experience_level)"
   ]
  },
  {
   "cell_type": "markdown",
   "id": "39c72cb9",
   "metadata": {},
   "source": [
    "> We are creating buckets representing an ex-employees tenure. The following criteria are applied to each ex-employee to categorize them into their respective bucket. new - less than 3 years, experienced - less than or equal to 6 years, established - less than or equal to 10 years, veteran - more than or equal to 11 years."
   ]
  },
  {
   "cell_type": "code",
   "execution_count": 20,
   "id": "c3343095",
   "metadata": {
    "scrolled": true
   },
   "outputs": [
    {
     "data": {
      "text/plain": [
       "new            193\n",
       "veteran        157\n",
       "experienced    139\n",
       "NaN             88\n",
       "established     74\n",
       "Name: institute_service, dtype: int64"
      ]
     },
     "execution_count": 20,
     "metadata": {},
     "output_type": "execute_result"
    }
   ],
   "source": [
    "combined_updated[\"institute_service\"].value_counts(dropna = False)"
   ]
  },
  {
   "cell_type": "markdown",
   "id": "294d8049",
   "metadata": {},
   "source": [
    "## Part 2: Analyzing The Data"
   ]
  },
  {
   "cell_type": "code",
   "execution_count": 21,
   "id": "71554e8c",
   "metadata": {},
   "outputs": [
    {
     "data": {
      "text/html": [
       "<div>\n",
       "<style scoped>\n",
       "    .dataframe tbody tr th:only-of-type {\n",
       "        vertical-align: middle;\n",
       "    }\n",
       "\n",
       "    .dataframe tbody tr th {\n",
       "        vertical-align: top;\n",
       "    }\n",
       "\n",
       "    .dataframe thead th {\n",
       "        text-align: right;\n",
       "    }\n",
       "</style>\n",
       "<table border=\"1\" class=\"dataframe\">\n",
       "  <thead>\n",
       "    <tr style=\"text-align: right;\">\n",
       "      <th></th>\n",
       "      <th>dissatisfied</th>\n",
       "    </tr>\n",
       "    <tr>\n",
       "      <th>institute_service</th>\n",
       "      <th></th>\n",
       "    </tr>\n",
       "  </thead>\n",
       "  <tbody>\n",
       "    <tr>\n",
       "      <th>established</th>\n",
       "      <td>0.459459</td>\n",
       "    </tr>\n",
       "    <tr>\n",
       "      <th>experienced</th>\n",
       "      <td>0.359712</td>\n",
       "    </tr>\n",
       "    <tr>\n",
       "      <th>new</th>\n",
       "      <td>0.295337</td>\n",
       "    </tr>\n",
       "    <tr>\n",
       "      <th>veteran</th>\n",
       "      <td>0.464968</td>\n",
       "    </tr>\n",
       "  </tbody>\n",
       "</table>\n",
       "</div>"
      ],
      "text/plain": [
       "                   dissatisfied\n",
       "institute_service              \n",
       "established            0.459459\n",
       "experienced            0.359712\n",
       "new                    0.295337\n",
       "veteran                0.464968"
      ]
     },
     "execution_count": 21,
     "metadata": {},
     "output_type": "execute_result"
    }
   ],
   "source": [
    "# Calculating the proprtions of dissatisfied ex-employees for each experince bucket\n",
    "combined_updated[\"dissatisfied\"].fillna(False, inplace = True)\n",
    "pivot_table_service = combined_updated.pivot_table(\"dissatisfied\", \"institute_service\", aggfunc = np.mean)\n",
    "pivot_table_service"
   ]
  },
  {
   "cell_type": "code",
   "execution_count": 22,
   "id": "1b5205e4",
   "metadata": {},
   "outputs": [
    {
     "data": {
      "text/plain": [
       "<AxesSubplot:xlabel='institute_service'>"
      ]
     },
     "execution_count": 22,
     "metadata": {},
     "output_type": "execute_result"
    },
    {
     "data": {
      "image/png": "[encoded data removed]",
      "text/plain": [
       "<Figure size 432x288 with 1 Axes>"
      ]
     },
     "metadata": {
      "needs_background": "light"
     },
     "output_type": "display_data"
    }
   ],
   "source": [
    "pivot_table_service.plot(kind = \"bar\")"
   ]
  },
  {
   "cell_type": "code",
   "execution_count": 23,
   "id": "606ec434",
   "metadata": {
    "scrolled": true
   },
   "outputs": [],
   "source": [
    "pivot_table_age = combined_updated.pivot_table(\"dissatisfied\", \"age\", aggfunc = np.mean)\n",
    "pivot_table_age = pivot_table_age.sort_index()"
   ]
  },
  {
   "cell_type": "code",
   "execution_count": 24,
   "id": "b4d66dbf",
   "metadata": {},
   "outputs": [
    {
     "data": {
      "text/plain": [
       "<AxesSubplot:xlabel='age'>"
      ]
     },
     "execution_count": 24,
     "metadata": {},
     "output_type": "execute_result"
    },
    {
     "data": {
      "image/png": "[encoded data removed]",
      "text/plain": [
       "<Figure size 432x288 with 1 Axes>"
      ]
     },
     "metadata": {
      "needs_background": "light"
     },
     "output_type": "display_data"
    }
   ],
   "source": [
    "pivot_table_age.plot(kind = \"bar\")"
   ]
  },
  {
   "cell_type": "markdown",
   "id": "cde8833d",
   "metadata": {},
   "source": [
    "## Conclusion\n",
    "> The main focus of this project was combining two datasets. To do so, we had to pre-clean both datasets before combining them to ensure they would be aligned with each other. The Majority of the cleaning process was centered on reformating the values of columns and assigning them the correct data types. Much of this reformating was done to allow us to perform mathematical operations on the columns for later analysis. Although this project did not analyze much of the data, we were able to gain some insights into why some employees resigned from their respective institutions. We conclude that more tenured ex-employees resigned more often than those who were still new or relatively new to their job. Almost 50% of \"veteran\" and \"established\" ex-employees resigned after working for such long periods as compared to 30% and 35% for \"new\" and \"experienced\" ex-employees. This result seems reasonable as naturally, the longer you stay working the same job, the more monotonous and dissatisfied you become and try to seek other challenges. These findings are consistent with the age at which ex-employees resign from their job. People who are older tend to resign compared to younger employees."
   ]
  },
  {
   "cell_type": "code",
   "execution_count": 25,
   "id": "7a67e9fe",
   "metadata": {},
   "outputs": [
    {
     "data": {
      "text/html": [
       "<style>\n",
       ".nbviewer div.output_area {\n",
       "  overflow-y: auto;\n",
       "  max-height: 400px;\n",
       "}\n",
       "</style>\n"
      ],
      "text/plain": [
       "<IPython.core.display.HTML object>"
      ]
     },
     "metadata": {},
     "output_type": "display_data"
    }
   ],
   "source": [
    "%%html\n",
    "<style>\n",
    ".nbviewer div.output_area {\n",
    "  overflow-y: auto;\n",
    "  max-height: 400px;\n",
    "}\n",
    "</style>"
   ]
  }
 ],
 "metadata": {
  "kernelspec": {
   "display_name": "Python 3",
   "language": "python",
   "name": "python3"
  },
  "language_info": {
   "codemirror_mode": {
    "name": "ipython",
    "version": 3
   },
   "file_extension": ".py",
   "mimetype": "text/x-python",
   "name": "python",
   "nbconvert_exporter": "python",
   "pygments_lexer": "ipython3",
   "version": "3.8.8"
  }
 },
 "nbformat": 4,
 "nbformat_minor": 5
}
