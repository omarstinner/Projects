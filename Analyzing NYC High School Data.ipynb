{
 "cells": [
  {
   "cell_type": "markdown",
   "id": "647e4559",
   "metadata": {},
   "source": [
    "# Analyzing NYC High School Data"
   ]
  },
  {
   "cell_type": "markdown",
   "id": "7e35a3c7",
   "metadata": {},
   "source": [
    "## Introduction\n",
    "> The SAT is a standardized test widely used for college admissions in the United States. It is composed of three sections: critical reading, writting, and mathematics. In this project, we will be analyzing the average SAT scores of high schools from the five boroughs of New York City. These borouhgs are very diverese and differ from eachother greatly. We will expore how the factors in each neighborhood influence the average SAT score of high schools. We will be specifically looking at the correlations and relationships between average SAT scores and demographic factors such as high school racial proportions. The aim of this project is to demonstrate how we can compile data from different sources into one unified dataset and explore the correlations between factors. The first part of this notebook will focus on combining, cleaning, and preparing the different datasets into a singular unfied dataset. The second section will focus on exploring the correlations and relationships between SAT Scores and a wide variety of factors."
   ]
  },
  {
   "cell_type": "code",
   "execution_count": 1,
   "id": "6b4ee67f",
   "metadata": {},
   "outputs": [],
   "source": [
    "# Importing the Libraries\n",
    "import pandas as pd\n",
    "import numpy as np\n",
    "import re\n",
    "import matplotlib.pyplot as plt\n",
    "import matplotlib.gridspec as gs\n",
    "pd.set_option(\"display.max_columns\", None)\n",
    "pd.set_option(\"display.max_colwidth\", None)\n",
    "pd.set_option(\"display.max_rows\", None)"
   ]
  },
  {
   "cell_type": "code",
   "execution_count": 2,
   "id": "5cfb23ac",
   "metadata": {},
   "outputs": [],
   "source": [
    "# Loading the files into a dictionary\n",
    "files = [\"ap_2010.csv\", \"class_size.csv\", \"demographics.csv\", \"graduation.csv\", \"hs_directory.csv\", \"sat_results.csv\", \"survey_all.txt\", \"survey_d75.txt\"]\n",
    "\n",
    "data_files = {}\n",
    "\n",
    "for file in files:\n",
    "    if file.split(\".\")[1] == \"csv\":\n",
    "        loaded_file = pd.read_csv(\"/Users/omarstinner/Data Files/Python Projects/Files/Guided Project - Analyzing NYC High School Data/{}\".format(file))\n",
    "        data_files[file.split(\".\")[0]] = loaded_file\n",
    "    else:\n",
    "        loaded_file = pd.read_csv(\"/Users/omarstinner/Data Files/Python Projects/Files/Guided Project - Analyzing NYC High School Data/{}\".format(file), delimiter = \"\\t\", encoding = \"windows-1252\")\n",
    "        data_files[file.split(\".\")[0]] = loaded_file\n",
    "        \n",
    "# Combining the survey files together and adding it to \"data_files\"\n",
    "survey = pd.concat([data_files[\"survey_all\"], data_files[\"survey_d75\"]], axis = 0)\n",
    "\n",
    "# Selecting the columns we want from the combined dataset and renming the capitalizing the \"DBN\" column\n",
    "survey_fields = [\"dbn\", \"rr_s\", \"rr_t\", \"rr_p\", \"N_s\", \"N_t\", \"N_p\", \"saf_p_11\", \"com_p_11\", \"eng_p_11\", \"aca_p_11\", \"saf_t_11\", \"com_t_11\", \"eng_t_11\", \"aca_t_11\", \"saf_s_11\", \"com_s_11\", \"eng_s_11\", \"aca_s_11\", \"saf_tot_11\", \"com_tot_11\", \"eng_tot_11\", \"aca_tot_11\"]\n",
    "survey = survey.loc[:, survey_fields] \n",
    "survey.rename(columns = {\"dbn\" : \"DBN\"}, inplace = True)\n",
    "\n",
    "# Adding the combined survey to the data_files dictionary\n",
    "data_files[\"survey\"] = survey\n",
    "\n",
    "# Capitalizing the name of the \"dbn\" column\n",
    "data_files[\"hs_directory\"].rename(columns = {\"dbn\" : \"DBN\"}, inplace = True)\n",
    "\n",
    "# Deleting the singular survey files\n",
    "del data_files[\"survey_all\"]\n",
    "del data_files[\"survey_d75\"]"
   ]
  },
  {
   "cell_type": "markdown",
   "id": "262481a0",
   "metadata": {},
   "source": [
    "## Part 1: Combining, Cleaning, and Preparing The Data"
   ]
  },
  {
   "cell_type": "code",
   "execution_count": 3,
   "id": "7bfdadc0",
   "metadata": {},
   "outputs": [],
   "source": [
    "# Creating a \"dbn\" column in \"class_size\" file\n",
    "data_files[\"class_size\"][\"DBN\"] = data_files[\"class_size\"].apply(lambda x : \"0\" + str(x[\"CSD\"]) + x[\"SCHOOL CODE\"] \n",
    "                                                                 if len(str(x[\"CSD\"])) <= 1 \n",
    "                                                                 else str(x[\"CSD\"]) + x[\"SCHOOL CODE\"], axis = 1)"
   ]
  },
  {
   "cell_type": "code",
   "execution_count": 4,
   "id": "a16c986b",
   "metadata": {},
   "outputs": [],
   "source": [
    "# Converting columns in \"sat_scores\" to a numeric datatype - nede to use coerce to bypass the \"s\" values and replace them with null values\n",
    "for col in data_files[\"sat_results\"].iloc[:, 2:].columns:\n",
    "    data_files[\"sat_results\"][col] = pd.to_numeric(data_files[\"sat_results\"][col], errors = \"coerce\")\n",
    "\n",
    "# Creating a new column that sums up all the aveerage scors fore each section to form a combined total score\n",
    "data_files[\"sat_results\"][\"sat_score\"] = data_files[\"sat_results\"].apply(lambda x : x.iloc[3] + \n",
    "                                                                                    x.iloc[4] + \n",
    "                                                                                    x.iloc[5], axis = 1)\n",
    "\n",
    "# Extracting the longitude and latitude from the \"Location 1\" column of the \"hs_directory\" data file and putting them in seperate columns\n",
    "data_files[\"hs_directory\"][\"latitude\"] = data_files[\"hs_directory\"][\"Location 1\"].apply(lambda x : re.findall(\"\\(.+, .+\\)\", x)[0].split(\",\")[0].replace(\"(\", \"\"))\n",
    "data_files[\"hs_directory\"][\"longitude\"] = data_files[\"hs_directory\"][\"Location 1\"].apply(lambda x : re.findall(\"\\(.+, .+\\)\", x)[0].split(\",\")[1].replace(\")\", \"\"))\n",
    "\n",
    "# Converting the datatype to numeric\n",
    "data_files[\"hs_directory\"][\"latitude\"] = pd.to_numeric(data_files[\"hs_directory\"][\"latitude\"], errors = \"coerce\")\n",
    "data_files[\"hs_directory\"][\"longitude\"] = pd.to_numeric(data_files[\"hs_directory\"][\"longitude\"], errors = \"coerce\")"
   ]
  },
  {
   "cell_type": "code",
   "execution_count": 5,
   "id": "1f74372a",
   "metadata": {},
   "outputs": [],
   "source": [
    "# Selecting rows where GRADE = \"09-12\" and where \"PROGRAM TYPE\" = \"GEN ED\", because we're only interested in High School Data\n",
    "data_files[\"class_size\"] = data_files[\"class_size\"][(data_files[\"class_size\"][\"GRADE \"] == \"09-12\") & (data_files[\"class_size\"][\"PROGRAM TYPE\"] == \"GEN ED\")]\n",
    "\n",
    "# Only keeping the numerical columns and finding the avearges of those column for all grades of highschool\n",
    "data_files[\"class_size\"] = data_files[\"class_size\"].groupby(\"DBN\").agg(np.mean)\n",
    "\n",
    "# Returning the Index to its orignial index (it was the dbn before, beacuse we used groupby, so now we return it)\n",
    "data_files[\"class_size\"].reset_index(inplace = True)\n",
    "\n",
    "# Only interested in the school year 2011-2012 as this analysis focuses on that year? - find that out in prevois lessons before the project\n",
    "data_files[\"demographics\"] = data_files[\"demographics\"][data_files[\"demographics\"][\"schoolyear\"] == 20112012]\n",
    "\n",
    "# Find out from previous lessons why we are selecting 2006 and \"Total Cohort\"\n",
    "data_files[\"graduation\"] = data_files[\"graduation\"][(data_files[\"graduation\"][\"Cohort\"] == \"2006\") & (data_files[\"graduation\"][\"Demographic\"] == \"Total Cohort\")]\n"
   ]
  },
  {
   "cell_type": "code",
   "execution_count": 6,
   "id": "868c79bd",
   "metadata": {},
   "outputs": [],
   "source": [
    "# Convertitn supposed to be numericc olumsn to numeri columns\n",
    "for col in data_files[\"ap_2010\"].iloc[:, 2:]:\n",
    "    data_files[\"ap_2010\"][col] = pd.to_numeric(data_files[\"ap_2010\"][col], errors = \"coerce\")"
   ]
  },
  {
   "cell_type": "code",
   "execution_count": 7,
   "id": "a88704ee",
   "metadata": {},
   "outputs": [],
   "source": [
    "# Combining the all the dataframes into one dataframe\n",
    "combined = data_files[\"sat_results\"]\n",
    "\n",
    "def combiner(to_combine, merge_type):\n",
    "    global combined\n",
    "    for file in to_combine:\n",
    "        combined = combined.merge(data_files[file], on = \"DBN\", how = merge_type)\n",
    "        \n",
    "combiner([\"ap_2010\", \"graduation\"], \"left\")\n",
    "combiner([\"class_size\", \"demographics\", \"survey\", \"hs_directory\"], \"inner\")"
   ]
  },
  {
   "cell_type": "markdown",
   "id": "041ed346",
   "metadata": {},
   "source": [
    "> We first left joined the \"ap_2010\" and \"graduation\", because we are considering the information in these datasets extra and not mandatory for our analysis. We are inner joining \"class_size\", \"demographics\", \"survey\", and \"hs_directory\" because they are essential to explore the purpose of this project which is investigating the relationship between SAT scores and demographic factors."
   ]
  },
  {
   "cell_type": "code",
   "execution_count": 8,
   "id": "ff05d769",
   "metadata": {},
   "outputs": [],
   "source": [
    "# adding a school district column\n",
    "combined[\"school_dist\"] = combined[\"DBN\"].apply(lambda x : x[:2])"
   ]
  },
  {
   "cell_type": "code",
   "execution_count": 9,
   "id": "9cf962b5",
   "metadata": {
    "scrolled": true
   },
   "outputs": [
    {
     "data": {
      "text/plain": [
       "Num of SAT Test Takers                  0.485338\n",
       "SAT Critical Reading Avg. Score         0.986820\n",
       "SAT Math Avg. Score                     0.972643\n",
       "SAT Writing Avg. Score                  0.987771\n",
       "sat_score                               1.000000\n",
       "AP Test Takers                          0.619152\n",
       "Total Exams Taken                       0.608719\n",
       "Number of Exams with scores 3 4 or 5    0.612911\n",
       "Total Cohort                            0.332066\n",
       "CSD                                     0.044940\n",
       "NUMBER OF STUDENTS / SEATS FILLED       0.400730\n",
       "NUMBER OF SECTIONS                      0.368859\n",
       "AVERAGE CLASS SIZE                      0.411199\n",
       "SIZE OF SMALLEST CLASS                  0.272326\n",
       "SIZE OF LARGEST CLASS                   0.343992\n",
       "SCHOOLWIDE PUPIL-TEACHER RATIO               NaN\n",
       "schoolyear                                   NaN\n",
       "frl_percent                            -0.751400\n",
       "total_enrollment                        0.372790\n",
       "ell_num                                -0.154844\n",
       "ell_percent                            -0.426293\n",
       "sped_num                                0.035414\n",
       "sped_percent                           -0.471297\n",
       "asian_num                               0.477302\n",
       "asian_per                               0.589511\n",
       "black_num                               0.028486\n",
       "black_per                              -0.293191\n",
       "hispanic_num                            0.026156\n",
       "hispanic_per                           -0.411880\n",
       "white_num                               0.451572\n",
       "white_per                               0.639438\n",
       "male_num                                0.330050\n",
       "male_per                               -0.119615\n",
       "female_num                              0.393833\n",
       "female_per                              0.119664\n",
       "rr_s                                    0.249091\n",
       "rr_t                                   -0.024938\n",
       "rr_p                                    0.050463\n",
       "N_s                                     0.431205\n",
       "N_t                                     0.296857\n",
       "N_p                                     0.427816\n",
       "saf_p_11                                0.128059\n",
       "com_p_11                               -0.120809\n",
       "eng_p_11                                0.021242\n",
       "aca_p_11                                0.036696\n",
       "saf_t_11                                0.342117\n",
       "com_t_11                                0.090789\n",
       "eng_t_11                                0.041043\n",
       "aca_t_11                                0.147239\n",
       "saf_s_11                                0.352208\n",
       "com_s_11                                0.196625\n",
       "eng_s_11                                0.223132\n",
       "aca_s_11                                0.351836\n",
       "saf_tot_11                              0.339704\n",
       "com_tot_11                              0.084851\n",
       "eng_tot_11                              0.109724\n",
       "aca_tot_11                              0.206689\n",
       "grade_span_max                               NaN\n",
       "expgrade_span_max                            NaN\n",
       "zip                                    -0.067080\n",
       "total_students                          0.411785\n",
       "number_programs                         0.118241\n",
       "latitude                               -0.124166\n",
       "longitude                              -0.137163\n",
       "Name: sat_score, dtype: float64"
      ]
     },
     "execution_count": 9,
     "metadata": {},
     "output_type": "execute_result"
    }
   ],
   "source": [
    "correlations = combined.corr()\n",
    "correlations[\"sat_score\"]"
   ]
  },
  {
   "cell_type": "code",
   "execution_count": 10,
   "id": "f4f5b1e1",
   "metadata": {},
   "outputs": [],
   "source": [
    "# removing \"dbn\" column feom survey_fields as it has no numerical value\n",
    "survey_fields.remove(\"dbn\")"
   ]
  },
  {
   "cell_type": "markdown",
   "id": "15c507d0",
   "metadata": {},
   "source": [
    "## Part 2: Analyzing the Data"
   ]
  },
  {
   "cell_type": "markdown",
   "id": "d93c8fe3",
   "metadata": {},
   "source": [
    "### SAT Score vs. Survey Fields"
   ]
  },
  {
   "cell_type": "code",
   "execution_count": 11,
   "id": "21ad027d",
   "metadata": {
    "scrolled": true
   },
   "outputs": [
    {
     "data": {
      "image/png": "[encoded data removed]",
      "text/plain": [
       "<Figure size 432x288 with 1 Axes>"
      ]
     },
     "metadata": {
      "needs_background": "light"
     },
     "output_type": "display_data"
    }
   ],
   "source": [
    "# Finding the correlations between sat_scores and the all the numerical survey fields\n",
    "plt.bar(correlations[\"sat_score\"][survey_fields].index, correlations[\"sat_score\"][survey_fields])\n",
    "plt.xticks(rotation = 45)\n",
    "plt.show()"
   ]
  },
  {
   "cell_type": "markdown",
   "id": "55d5fbde",
   "metadata": {},
   "source": [
    "> Looking at the above correlations between \"sat_score\" and all the survey fields, we see that such fields are at most moderately correlated with \"sat_score\", with the strongest correlation only being slightly above an r score of 0.4 - belonging to \"N_s\": The number of student respondents. This similar correlation is also seen with \"N_p\": The number of parent respondents. This suggests that schools whose students and parents fill out response surveys are more likely to have higher average SAT scores. Filling out a response survey can be an indication of good performance on the SAT as it is typically natural that someone will give feedback if he/she performs well on an exam than if he/she doesn't. This same conclusion is also expressed in the correlation between \"rr_s\": student response rate and \"sat_score\". The schools that have a higher proportion of students who completed the survey see an increase in average \"sat_score\". The correlations between \"sat_score\" and \"saf_t_11\", \"saf_s_11\" (How teachers and student perceived safety) are around 0.3. These correlations are quite self-explanatory as a safe environment is more likely to facilitate SAT success. It is interesting to see how  the correlations of academic standards (\"aca_s_11\", \"aca_t_11\", and \"aca_p_11\"), with \"sat_score\" differ from the different groups of people. Students’ perception of academic standards (\"ac_s_11\") has the highest correlation between the three. This seems logical as an SAT score is mostly dependant on the student, while the parents and teacher act as the supporting cast. This means that their perception has the strongest influence on how they perform on the SAT."
   ]
  },
  {
   "cell_type": "markdown",
   "id": "c0de35ed",
   "metadata": {},
   "source": [
    "### SAT Score vs. Safety"
   ]
  },
  {
   "cell_type": "code",
   "execution_count": 12,
   "id": "383accb3",
   "metadata": {
    "scrolled": true
   },
   "outputs": [
    {
     "data": {
      "image/png": "[encoded data removed]",
      "text/plain": [
       "<Figure size 432x288 with 1 Axes>"
      ]
     },
     "metadata": {
      "needs_background": "light"
     },
     "output_type": "display_data"
    },
    {
     "data": {
      "text/plain": [
       "boro\n",
       "Manhattan        6.836364\n",
       "Queens           6.721875\n",
       "Bronx            6.606522\n",
       "Staten Island    6.530000\n",
       "Brooklyn         6.370755\n",
       "Name: saf_s_11, dtype: float64"
      ]
     },
     "execution_count": 12,
     "metadata": {},
     "output_type": "execute_result"
    }
   ],
   "source": [
    "# Exploring Safety\n",
    "plt.scatter(combined[\"saf_s_11\"], combined[\"sat_score\"])\n",
    "plt.show()\n",
    "\n",
    "combined.groupby(\"boro\")[\"saf_s_11\"].mean().sort_values(ascending = False)"
   ]
  },
  {
   "cell_type": "markdown",
   "id": "c66d3190",
   "metadata": {},
   "source": [
    "> Exploring the relationship between safety is quite interesting as a safety score is a non-academic factor that can heavily influence a student’s performance in school. We can see in the scatter plot above that the only schools that perform exceptionally well on the SAT are those where students report a safety score of 7.5 and above. Schools that perform poorly on the SAT score usually tend to be in areas that are less safe as reported by their students. Looking at the average safety scores of students for each neighborhood, we see that Brooklyn receives the lowest average score of 6.37, while Manhattan, the \"safest\" neighborhood, has a score of 6.83. These scores make sense as social-economic statuses of each neighborhood are somewhat representative of their safety scores. Manhattan is a wealthier neighborhood, meaning that they probably have higher safety standards and hence higher average SAT scores."
   ]
  },
  {
   "cell_type": "markdown",
   "id": "648e1025",
   "metadata": {},
   "source": [
    "### SAT Score vs. Race"
   ]
  },
  {
   "cell_type": "code",
   "execution_count": 13,
   "id": "b0722f73",
   "metadata": {
    "scrolled": true
   },
   "outputs": [
    {
     "data": {
      "image/png": "[encoded data removed]",
      "text/plain": [
       "<Figure size 1080x720 with 3 Axes>"
      ]
     },
     "metadata": {
      "needs_background": "light"
     },
     "output_type": "display_data"
    },
    {
     "data": {
      "text/html": [
       "<div>\n",
       "<style scoped>\n",
       "    .dataframe tbody tr th:only-of-type {\n",
       "        vertical-align: middle;\n",
       "    }\n",
       "\n",
       "    .dataframe tbody tr th {\n",
       "        vertical-align: top;\n",
       "    }\n",
       "\n",
       "    .dataframe thead th {\n",
       "        text-align: right;\n",
       "    }\n",
       "</style>\n",
       "<table border=\"1\" class=\"dataframe\">\n",
       "  <thead>\n",
       "    <tr style=\"text-align: right;\">\n",
       "      <th></th>\n",
       "      <th>white_per</th>\n",
       "      <th>asian_per</th>\n",
       "      <th>black_per</th>\n",
       "      <th>hispanic_per</th>\n",
       "    </tr>\n",
       "    <tr>\n",
       "      <th>boro</th>\n",
       "      <th></th>\n",
       "      <th></th>\n",
       "      <th></th>\n",
       "      <th></th>\n",
       "    </tr>\n",
       "  </thead>\n",
       "  <tbody>\n",
       "    <tr>\n",
       "      <th>Bronx</th>\n",
       "      <td>39.60</td>\n",
       "      <td>40.100000</td>\n",
       "      <td>7.050000</td>\n",
       "      <td>12.600000</td>\n",
       "    </tr>\n",
       "    <tr>\n",
       "      <th>Brooklyn</th>\n",
       "      <td>21.30</td>\n",
       "      <td>60.300000</td>\n",
       "      <td>10.200000</td>\n",
       "      <td>7.900000</td>\n",
       "    </tr>\n",
       "    <tr>\n",
       "      <th>Manhattan</th>\n",
       "      <td>33.20</td>\n",
       "      <td>41.133333</td>\n",
       "      <td>10.433333</td>\n",
       "      <td>13.933333</td>\n",
       "    </tr>\n",
       "    <tr>\n",
       "      <th>Queens</th>\n",
       "      <td>15.65</td>\n",
       "      <td>64.950000</td>\n",
       "      <td>8.200000</td>\n",
       "      <td>10.400000</td>\n",
       "    </tr>\n",
       "    <tr>\n",
       "      <th>Staten Island</th>\n",
       "      <td>61.30</td>\n",
       "      <td>31.800000</td>\n",
       "      <td>1.100000</td>\n",
       "      <td>5.300000</td>\n",
       "    </tr>\n",
       "  </tbody>\n",
       "</table>\n",
       "</div>"
      ],
      "text/plain": [
       "               white_per  asian_per  black_per  hispanic_per\n",
       "boro                                                        \n",
       "Bronx              39.60  40.100000   7.050000     12.600000\n",
       "Brooklyn           21.30  60.300000  10.200000      7.900000\n",
       "Manhattan          33.20  41.133333  10.433333     13.933333\n",
       "Queens             15.65  64.950000   8.200000     10.400000\n",
       "Staten Island      61.30  31.800000   1.100000      5.300000"
      ]
     },
     "metadata": {},
     "output_type": "display_data"
    },
    {
     "data": {
      "text/plain": [
       "44                                MANHATTAN BRIDGES HIGH SCHOOL\n",
       "82             WASHINGTON HEIGHTS EXPEDITIONARY LEARNING SCHOOL\n",
       "89     GREGORIO LUPERON HIGH SCHOOL FOR SCIENCE AND MATHEMATICS\n",
       "125                         ACADEMY FOR LANGUAGE AND TECHNOLOGY\n",
       "141                       INTERNATIONAL SCHOOL FOR LIBERAL ARTS\n",
       "176            PAN AMERICAN INTERNATIONAL HIGH SCHOOL AT MONROE\n",
       "253                                   MULTICULTURAL HIGH SCHOOL\n",
       "286                      PAN AMERICAN INTERNATIONAL HIGH SCHOOL\n",
       "Name: SCHOOL NAME, dtype: object"
      ]
     },
     "metadata": {},
     "output_type": "display_data"
    },
    {
     "data": {
      "text/plain": [
       "37                                  STUYVESANT HIGH SCHOOL\n",
       "151                           BRONX HIGH SCHOOL OF SCIENCE\n",
       "187                         BROOKLYN TECHNICAL HIGH SCHOOL\n",
       "327    QUEENS HIGH SCHOOL FOR THE SCIENCES AT YORK COLLEGE\n",
       "356                    STATEN ISLAND TECHNICAL HIGH SCHOOL\n",
       "Name: SCHOOL NAME, dtype: object"
      ]
     },
     "metadata": {},
     "output_type": "display_data"
    }
   ],
   "source": [
    "# Exploring racial diffences in SAT Score\n",
    "fig1 = plt.figure(figsize = (15, 10))\n",
    "gs1 = gs.GridSpec(nrows = 2, ncols = 2)\n",
    "\n",
    "ax1 = plt.subplot(gs1[0,0])\n",
    "ax1.bar(combined.corr()[\"sat_score\"][[\"white_per\", \"asian_per\", \"black_per\", \"hispanic_per\"]].index, combined.corr()[\"sat_score\"][[\"white_per\", \"asian_per\", \"black_per\", \"hispanic_per\"]])\n",
    "\n",
    "ax2 = plt.subplot(gs1[0,1])\n",
    "ax2.scatter(combined[\"hispanic_per\"], combined[\"sat_score\"])\n",
    "\n",
    "ax3 = plt.subplot(gs1[1,0])\n",
    "ax3.scatter(combined[\"black_per\"], combined[\"sat_score\"])\n",
    "\n",
    "plt.show()\n",
    "\n",
    "display(combined[combined[\"sat_score\"] >= 1800].groupby(\"boro\")[[\"white_per\", \"asian_per\", \"black_per\", \"hispanic_per\"]].mean())\n",
    "display(combined[combined[\"hispanic_per\"] >= 95][\"SCHOOL NAME\"])\n",
    "display(combined[(combined[\"hispanic_per\"] < 10) & (combined[\"sat_score\"] >= 1800)][\"SCHOOL NAME\"])"
   ]
  },
  {
   "cell_type": "markdown",
   "id": "f2af29dc",
   "metadata": {},
   "source": [
    "> Above, we see that as the proportion of white or Asian students increases, the average SAT score also increases. While increased proportions of black or hispanic students leads to a lower average SAT scores. This could suggest that the education received in poorer schools is of very low quality and such schools are in communities that are more black and hispanic. We also looked at schools that had an average SAT scores of at least 1600. The results were coherent with the correlation graph, where we see higher proportions of white and asian students in schools that perform better on the SAT. After further exploring schools with high and low proportions of hispanic students, we can see that schools with high proportions of hispanic students are those that are more \"international\" that are probably populated woth students where english is their second language - this could be the reason for poor SAT scores. On the other hand, the schools that have low proportions of hispanic students and have a high average SAT scores, tend to be more STEM-related schools centered around technical fields such as Science and Math."
   ]
  },
  {
   "cell_type": "markdown",
   "id": "112d8d0c",
   "metadata": {},
   "source": [
    "### SAT Score vs. Gender"
   ]
  },
  {
   "cell_type": "code",
   "execution_count": 14,
   "id": "887fb81c",
   "metadata": {
    "scrolled": true
   },
   "outputs": [
    {
     "data": {
      "image/png": "[encoded data removed]",
      "text/plain": [
       "<Figure size 432x288 with 1 Axes>"
      ]
     },
     "metadata": {
      "needs_background": "light"
     },
     "output_type": "display_data"
    },
    {
     "data": {
      "image/png": "[encoded data removed]",
      "text/plain": [
       "<Figure size 432x288 with 1 Axes>"
      ]
     },
     "metadata": {
      "needs_background": "light"
     },
     "output_type": "display_data"
    },
    {
     "data": {
      "text/plain": [
       "Manhattan    19\n",
       "Brooklyn     13\n",
       "Bronx         6\n",
       "Queens        4\n",
       "Name: boro, dtype: int64"
      ]
     },
     "execution_count": 14,
     "metadata": {},
     "output_type": "execute_result"
    }
   ],
   "source": [
    "# Gender differnces in SAT Score\n",
    "plt.bar(combined.corr()[\"sat_score\"][[\"male_per\", \"female_per\"]].index, combined.corr()[\"sat_score\"][[\"male_per\", \"female_per\"]])\n",
    "plt.show()\n",
    "\n",
    "plt.scatter(combined[\"female_per\"], combined[\"sat_score\"])\n",
    "plt.show()\n",
    "\n",
    "combined[(combined[\"female_per\"] >= 60) & (combined[\"female_per\"] <= 80)][\"boro\"].value_counts()"
   ]
  },
  {
   "cell_type": "markdown",
   "id": "29c5f23c",
   "metadata": {},
   "source": [
    "> We see that there is no strong correlation between gender and SAT scores, although females tend to perform better ever so slightly. However, when we further explore the relationship between \"female_per\" and \"sat_score\" there are some High schools that have a high proportion of female students. Interestingly, The majority of these High schools are located in Manhattan."
   ]
  },
  {
   "cell_type": "markdown",
   "id": "9add4bf7",
   "metadata": {},
   "source": [
    "### SAT Score vs. AP Test Takers"
   ]
  },
  {
   "cell_type": "code",
   "execution_count": 15,
   "id": "b00d4164",
   "metadata": {
    "scrolled": true
   },
   "outputs": [
    {
     "name": "stdout",
     "output_type": "stream",
     "text": [
      "0.7299920463969354\n"
     ]
    },
    {
     "data": {
      "image/png": "[encoded data removed]",
      "text/plain": [
       "<Figure size 432x288 with 1 Axes>"
      ]
     },
     "metadata": {
      "needs_background": "light"
     },
     "output_type": "display_data"
    },
    {
     "data": {
      "text/plain": [
       "37                                  STUYVESANT HIGH SCHOOL\n",
       "155      HIGH SCHOOL OF AMERICAN STUDIES AT LEHMAN COLLEGE\n",
       "302                            TOWNSEND HARRIS HIGH SCHOOL\n",
       "327    QUEENS HIGH SCHOOL FOR THE SCIENCES AT YORK COLLEGE\n",
       "356                    STATEN ISLAND TECHNICAL HIGH SCHOOL\n",
       "Name: SCHOOL NAME, dtype: object"
      ]
     },
     "execution_count": 15,
     "metadata": {},
     "output_type": "execute_result"
    }
   ],
   "source": [
    "# Does the proptooin of AP Test takers influence the avergae SAT score of a high school.\n",
    "combined[\"ap_per\"] = combined[\"AP Test Takers \"] / combined[\"total_enrollment\"]\n",
    "\n",
    "print(combined.corr()[\"sat_score\"][\"ap_per\"])\n",
    "\n",
    "plt.scatter(combined[\"ap_per\"], combined[\"sat_score\"])\n",
    "plt.show()\n",
    "\n",
    "combined[(combined[\"sat_score\"] >= 1800) & (combined[\"ap_per\"] >= 0.4)][\"SCHOOL NAME\"]"
   ]
  },
  {
   "cell_type": "markdown",
   "id": "eff45664",
   "metadata": {},
   "source": [
    "> AP courses and exams have the same rigor as introductory university courses. To some extent, this can indicate the level of intellectuality at a school. We see this notion displayed through the high correlation score of 0.72 between \"sat_score\" and our newly formed variable \"ap_per\". The higher the proportion of AP Test takers in a High school, the higher the average \"sat_score\" of the high school."
   ]
  },
  {
   "cell_type": "markdown",
   "id": "0510b43a",
   "metadata": {},
   "source": [
    "### SAT Scores vs. Class Size"
   ]
  },
  {
   "cell_type": "code",
   "execution_count": 16,
   "id": "8673ede0",
   "metadata": {
    "scrolled": true
   },
   "outputs": [
    {
     "data": {
      "image/png": "[encoded data removed]",
      "text/plain": [
       "<Figure size 432x288 with 1 Axes>"
      ]
     },
     "metadata": {
      "needs_background": "light"
     },
     "output_type": "display_data"
    },
    {
     "data": {
      "text/plain": [
       "37             STUYVESANT HIGH SCHOOL\n",
       "151      BRONX HIGH SCHOOL OF SCIENCE\n",
       "187    BROOKLYN TECHNICAL HIGH SCHOOL\n",
       "Name: SCHOOL NAME, dtype: object"
      ]
     },
     "execution_count": 16,
     "metadata": {},
     "output_type": "execute_result"
    }
   ],
   "source": [
    "# we can compare the avegra gclass sizes tha tare big and scroes between the good and bad neighborrohods\n",
    "plt.scatter(combined[\"AVERAGE CLASS SIZE\"], combined[\"sat_score\"])\n",
    "plt.show()\n",
    "\n",
    "\n",
    "combined.corr()[\"sat_score\"][\"AVERAGE CLASS SIZE\"]\n",
    "\n",
    "combined[(combined[\"AVERAGE CLASS SIZE\"] >= 30) & (combined[\"sat_score\"] >= 1800)][\"SCHOOL NAME\"]"
   ]
  },
  {
   "cell_type": "markdown",
   "id": "b10c5de2",
   "metadata": {},
   "source": [
    "> It is interesting to see that there is a positive correlation between \"sat_score\" and \"AVERAGE CLASS SIZE\", as one would expect that students in a smaller class would receive more attention, which would lead to a higher average SAT score for a high school. After examining schools that had large class sizes (30 and above) and high average SAT scores (1800 and above), we see that these schools are more STEM-related and academically more technical."
   ]
  },
  {
   "cell_type": "markdown",
   "id": "c555b47d",
   "metadata": {},
   "source": [
    "## Conclusion\n",
    "> Throughout this analysis, we have explored the different factors that influence the average SAT scores of high schools. We concluded that High schools that had high rates of student and parents survey responses showed increased average SAT scores. This finding is coherent with human nature as students are more inclined to participate in a survey if they performed well on an SAT exam. We also discovered that schools with higher perceived safety scores also performed better than those with lower scores. Such higher scores were more common amongst high schools in the Manhattan borough. Indeed, a safer environment facilitates success. Of all the races, hispanic students tend to perform the worst on the SATs out of all the races - this could be due to the fact that english is not their native language and so their performance on the english language-based exam is justified. We found out that gender was not a determinant of SAT scores. AS expected High schools that had a higher proportion of their students take AP courses and exams tended to have higher average SAT Scores. Taking AP classes is an indicator of academic intellect, hence an increased proportion of AP test-takers can highly translate to a high average SAT Score. Interestingly, \"class_size\" had a positive correlation with \"sat_score\". Logically, speaking a smaller class size should lead to a higher average SAT scores, however, this was not the case in our findings. The schools that had large class sizes and high average SAT Scores were usually highly technical schools, which could explain their high SAT Scores, regardless of their class size."
   ]
  },
  {
   "cell_type": "code",
   "execution_count": 17,
   "id": "a03e3c86",
   "metadata": {},
   "outputs": [
    {
     "data": {
      "text/html": [
       "<style>\n",
       ".nbviewer div.output_area {\n",
       "  overflow-y: auto;\n",
       "  max-height: 400px;\n",
       "}\n",
       "</style>\n"
      ],
      "text/plain": [
       "<IPython.core.display.HTML object>"
      ]
     },
     "metadata": {},
     "output_type": "display_data"
    }
   ],
   "source": [
    "%%html\n",
    "<style>\n",
    ".nbviewer div.output_area {\n",
    "  overflow-y: auto;\n",
    "  max-height: 400px;\n",
    "}\n",
    "</style>"
   ]
  }
 ],
 "metadata": {
  "kernelspec": {
   "display_name": "Python 3",
   "language": "python",
   "name": "python3"
  },
  "language_info": {
   "codemirror_mode": {
    "name": "ipython",
    "version": 3
   },
   "file_extension": ".py",
   "mimetype": "text/x-python",
   "name": "python",
   "nbconvert_exporter": "python",
   "pygments_lexer": "ipython3",
   "version": "3.8.8"
  }
 },
 "nbformat": 4,
 "nbformat_minor": 5
}
