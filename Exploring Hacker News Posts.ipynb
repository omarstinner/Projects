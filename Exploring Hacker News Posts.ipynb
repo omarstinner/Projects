{
 "cells": [
  {
   "cell_type": "markdown",
   "metadata": {},
   "source": [
    "# Exploring Hacker News Posts"
   ]
  },
  {
   "cell_type": "markdown",
   "metadata": {},
   "source": [
    "## Introduction\n",
    "> “Hacker News” is a popular social news website in the programming community focusing on computer science and entrepreneurship. The website’s format is similar to that of Reddit’s where users post technology-related stories that are voted on. Posts are usually categorized into two groups:\n",
    "“Ask HN” posts - posts that ask the Hacker News community a question, and “Show HN” posts - posts to show the Hacker News community a project, product, or generally something interesting. The aim of this project is to compare these two types of posts and more specifically answer the following questions:\n",
    "> - Do “Ask HN” or “Show HN” posts receive more comments on average?\n",
    "> - Do posts created at a certain time receive more comments on average?\n",
    "> - Do “Ask HN” or “Show HN” posts receive more points on average?\n",
    "> - Do posts created at a certain time receive more points on average?\n",
    "\n",
    "> The dataset we’ll be working with throughout this project has been filtered to only include post submissions that received comments, resulting in an omission of 280,000 rows. The first part of this notebook will focus on preparing and cleaning the dataset for analysis, while the second part will center on analyzing the cleaned data and answering the above questions."
   ]
  },
  {
   "cell_type": "code",
   "execution_count": 1,
   "metadata": {
    "code_folding": []
   },
   "outputs": [],
   "source": [
    "# Importing Libraries\n",
    "from csv import reader\n",
    "import pandas as pd"
   ]
  },
  {
   "cell_type": "code",
   "execution_count": 2,
   "metadata": {},
   "outputs": [],
   "source": [
    "# Loading the dataset\n",
    "\n",
    "def open_file(filename):\n",
    "    return list(reader(open(filename)))\n",
    "\n",
    "hackernews_data = open_file(\"/Users/omarstinner/Data Files/Python Projects/Files/Guided Project - Exploring Hacker News Posts/hacker_news.csv\")\n",
    "header = hackernews_data[0]"
   ]
  },
  {
   "cell_type": "markdown",
   "metadata": {},
   "source": [
    "## Part 1: Cleaning The Dataset"
   ]
  },
  {
   "cell_type": "code",
   "execution_count": 3,
   "metadata": {},
   "outputs": [],
   "source": [
    "def title_seperator(title):\n",
    "    return [row for row in hackernews_data[1:] if (row[1].lower()).startswith(title)]\n",
    "\n",
    "ask_posts = title_seperator(\"ask hn\")\n",
    "show_posts = title_seperator(\"show hn\")"
   ]
  },
  {
   "cell_type": "markdown",
   "metadata": {},
   "source": [
    "> **Function:** To seperate \"Ask HN\" and \"Show HN\" posts from the dataset"
   ]
  },
  {
   "cell_type": "code",
   "execution_count": 4,
   "metadata": {},
   "outputs": [],
   "source": [
    "from datetime import *\n",
    "\n",
    "def number_of_comments_and_posts(title):\n",
    "    return sum([int(row[4]) for row in hackernews_data[1:] if (row[1].lower()).startswith(title)]), sum([1 for row in hackernews_data[1:] if (row[1].lower()).startswith(title)]) \n",
    "\n",
    "number_of_ask_comments,number_of_ask_posts = number_of_comments_and_posts(\"ask hn\")\n",
    "number_of_show_comments,number_of_show_posts = number_of_comments_and_posts(\"show hn\")\n",
    "\n",
    "ready_ask_posts = [[datetime.strptime(row[-1], \"%m/%d/%Y %H:%M\").hour if row.index(x) == 6 else x for x in row] for row in ask_posts]\n",
    "ready_ask_posts.insert(0, header)\n",
    "\n",
    "ready_show_posts = [[datetime.strptime(row[-1], \"%m/%d/%Y %H:%M\").hour if row.index(x) == 6 else x for x in row] for row in show_posts]\n",
    "ready_show_posts.insert(0, header)"
   ]
  },
  {
   "cell_type": "markdown",
   "metadata": {},
   "source": [
    "> **Function:** To return 2 values: 1. The total number of comments for both \"Ask HN\" and \"Show HN\" posts 2. The total number of posts for both \"Ask HN\" and \"Show HN\" posts\n",
    "\n",
    "> **What's Happening?** After passing the dataset through the function, we see that \"Ask HN\" posts are more popular than \"Show HN\" posts. For this reason, we will continue our analysis with just \"Ask HN\" Data. To prepare the \"ask_posts\" dataset for a pandas DataFrame conversion, we will have to first replace the \"created_at\" column values with just the hour portion and also add the header back "
   ]
  },
  {
   "cell_type": "code",
   "execution_count": 5,
   "metadata": {},
   "outputs": [],
   "source": [
    "# Converting ready_ask_posts into a DataFrame\n",
    "pandas_ask_posts = pd.DataFrame(ready_ask_posts[1:], columns = ready_ask_posts[0])\n",
    "pandas_ask_posts[\"num_comments\"] = pandas_ask_posts[\"num_comments\"].astype(int)\n",
    "\n",
    "# Converting show_ask_posts into a DataFrame\n",
    "pandas_show_posts = pd.DataFrame(ready_show_posts[1:], columns = ready_show_posts[0])\n",
    "pandas_show_posts[\"num_comments\"] = pandas_show_posts[\"num_comments\"].astype(int)"
   ]
  },
  {
   "cell_type": "markdown",
   "metadata": {},
   "source": [
    "> **What's Happening?** We first convert the \"ready_ask_posts\" and \"ready_show_posts\" datasets into pandas DataFrames. We then change all the values in the \"num_comments\" column into integer types. This will allow us to perform some mathemtical operations on them."
   ]
  },
  {
   "cell_type": "markdown",
   "metadata": {},
   "source": [
    "## Part 2: Analyzing The Data"
   ]
  },
  {
   "cell_type": "markdown",
   "metadata": {},
   "source": [
    "#### Do “Ask HN” or “Show HN” posts receive more comments on average?"
   ]
  },
  {
   "cell_type": "code",
   "execution_count": 6,
   "metadata": {},
   "outputs": [
    {
     "name": "stdout",
     "output_type": "stream",
     "text": [
      "14.038417431192661\n",
      "10.31669535283993\n"
     ]
    }
   ],
   "source": [
    "print(pandas_ask_posts[\"num_comments\"].mean())\n",
    "print(pandas_show_posts[\"num_comments\"].mean())"
   ]
  },
  {
   "cell_type": "markdown",
   "metadata": {},
   "source": [
    "> After calculating the average number of comments for both types of posts, we see that on average \"Ask HN\" posts recieve around 14 comments per post, while \"Show HN\" posts recieve around 10 comments per post. These averages look reasonable as people are more inclined to give attention to pressing issues rather than a post that merely shows someone's work."
   ]
  },
  {
   "cell_type": "markdown",
   "metadata": {},
   "source": [
    "#### Do posts created at a certain time receive more comments on average?"
   ]
  },
  {
   "cell_type": "code",
   "execution_count": 7,
   "metadata": {
    "scrolled": true
   },
   "outputs": [
    {
     "name": "stdout",
     "output_type": "stream",
     "text": [
      "Average Comments per Hour: 'Ask HN' posts:\n",
      "15 : 38.5948275862069\n",
      "2 : 23.810344827586206\n",
      "20 : 21.525\n",
      "16 : 16.796296296296298\n",
      "21 : 16.009174311926607\n",
      "13 : 14.741176470588234\n",
      "10 : 13.440677966101696\n",
      "14 : 13.233644859813085\n",
      "18 : 13.20183486238532\n",
      "17 : 11.46\n",
      "1 : 11.383333333333333\n",
      "11 : 11.051724137931034\n",
      "19 : 10.8\n",
      "8 : 10.25\n",
      "5 : 10.08695652173913\n",
      "12 : 9.41095890410959\n",
      "6 : 9.022727272727273\n",
      "0 : 8.127272727272727\n",
      "23 : 7.985294117647059\n",
      "7 : 7.852941176470588\n",
      "3 : 7.796296296296297\n",
      "4 : 7.170212765957447\n",
      "22 : 6.746478873239437\n",
      "9 : 5.5777777777777775\n",
      "\n",
      "\n",
      "Average Comments per Hour: 'Show HN' posts:\n",
      "18 : 15.770491803278688\n",
      "0 : 15.709677419354838\n",
      "14 : 13.44186046511628\n",
      "23 : 12.416666666666666\n",
      "22 : 12.391304347826088\n",
      "12 : 11.80327868852459\n",
      "16 : 11.655913978494624\n",
      "7 : 11.5\n",
      "11 : 11.159090909090908\n",
      "3 : 10.62962962962963\n",
      "20 : 10.2\n",
      "19 : 9.8\n",
      "17 : 9.795698924731182\n",
      "9 : 9.7\n",
      "13 : 9.555555555555555\n",
      "4 : 9.5\n",
      "6 : 8.875\n",
      "1 : 8.785714285714286\n",
      "10 : 8.25\n",
      "15 : 8.102564102564102\n",
      "21 : 5.787234042553192\n",
      "8 : 4.852941176470588\n",
      "2 : 4.233333333333333\n",
      "5 : 3.0526315789473686\n"
     ]
    }
   ],
   "source": [
    "# Creating a Dictionary storing the averages for each hour in for \"Ask HN\" posts and \"Show HN\" posts\n",
    "hour_average_comments_per_post_ask = {k : (pandas_ask_posts.loc[pandas_ask_posts[\"created_at\"] == k, \"num_comments\"].sum())/(pandas_ask_posts[\"created_at\"] == k).sum() for k in set(pandas_ask_posts[\"created_at\"].tolist())}\n",
    "hour_average_comments_per_post_show = {k : (pandas_show_posts.loc[pandas_show_posts[\"created_at\"] == k, \"num_comments\"].sum())/(pandas_show_posts[\"created_at\"] == k).sum() for k in set(pandas_show_posts[\"created_at\"].tolist())}\n",
    "\n",
    "# Sorting the dictionary based on hour with the highest average numher of comments\n",
    "sorted_ask_hour_avg = dict(sorted(hour_average_comments_per_post_ask.items(), key = lambda x: x[1], reverse = True))\n",
    "sorted_show_hour_avg = dict(sorted(hour_average_comments_per_post_show.items(), key = lambda x: x[1], reverse = True))\n",
    "\n",
    "print(\"Average Comments per Hour: 'Ask HN' posts:\")\n",
    "for k,v in sorted_ask_hour_avg.items():\n",
    "    print(k, \":\", v)\n",
    "\n",
    "print(\"\\n\")\n",
    "\n",
    "print(\"Average Comments per Hour: 'Show HN' posts:\")\n",
    "for k,v in sorted_show_hour_avg.items():\n",
    "    print(k, \":\", v)"
   ]
  },
  {
   "cell_type": "markdown",
   "metadata": {},
   "source": [
    "> For \"Ask HN\" posts the hour that receives the most posts is 15:00, with an average of around 39 comments. Interestingly, 2:00 seems to also be a very active hour for \"Ask HN\" posts. The hours of 10:00, 13:00, 14:00 all receive around the same amount of average comments (14 comments). As expected, \"Show HN\" does not get nearly as much attention as \"Ask HN\" posts. Their most active hours are 18:00 and 0:00 with an average of around 15 comments. Assuming that the questions asked are educational and come from students, it seems like people get more responses to their questions towards the end of the school day (a time where users can log in and answer questions)."
   ]
  },
  {
   "cell_type": "markdown",
   "metadata": {},
   "source": [
    "#### Do “Ask HN” or “Show HN” posts receive more points on average?"
   ]
  },
  {
   "cell_type": "code",
   "execution_count": 8,
   "metadata": {},
   "outputs": [
    {
     "name": "stdout",
     "output_type": "stream",
     "text": [
      "15.061926605504587\n",
      "27.555077452667813\n"
     ]
    }
   ],
   "source": [
    "# Converting the \"num_points\" column to an integer type perform some math operations on them\n",
    "pandas_ask_posts[\"num_points\"] = pandas_ask_posts[\"num_points\"].astype(int)\n",
    "pandas_show_posts[\"num_points\"] = pandas_show_posts[\"num_points\"].astype(int)\n",
    "\n",
    "print(pandas_ask_posts[\"num_points\"].mean())\n",
    "print(pandas_show_posts[\"num_points\"].mean())"
   ]
  },
  {
   "cell_type": "markdown",
   "metadata": {},
   "source": [
    "> Discussion communities are places that are meant to be respected and treated professionally. On other discussion platforms, there are options to \"downvote\" posts that are deemed irrelevant, inappropriate, or repetitive. However, Hacker News does not have such a feature and so instead we will consider such \"downvotes\" as the lack of points a post receives. Repetitive questions are penalized on popular discussion boards and we could be observing this same pattern on the Hacker News community through the lack of points a post receives. The results show that \"Ask_HN\" posts receive only around 15 points on average, which could possibly mean that users are asking repetitive or irrelevant questions leading to a lower point count. On the other hand, \"Show HN\" posts receive almost double the number of points as \"Ask HN\" posts receive. This is a reasonable outcome as people are more inclined to upvote posts where users display/share their interesting projects/findings."
   ]
  },
  {
   "cell_type": "markdown",
   "metadata": {},
   "source": [
    "#### Do posts created at a certain time receive more points on average?"
   ]
  },
  {
   "cell_type": "code",
   "execution_count": 9,
   "metadata": {
    "scrolled": true
   },
   "outputs": [
    {
     "name": "stdout",
     "output_type": "stream",
     "text": [
      "Average Points per Hour: 'Ask HN' posts:\n",
      "15 : 29.99137931034483\n",
      "13 : 24.258823529411764\n",
      "16 : 23.35185185185185\n",
      "17 : 19.41\n",
      "10 : 18.677966101694917\n",
      "18 : 15.972477064220184\n",
      "21 : 15.788990825688073\n",
      "20 : 14.3875\n",
      "11 : 14.224137931034482\n",
      "19 : 13.754545454545454\n",
      "2 : 13.672413793103448\n",
      "6 : 13.431818181818182\n",
      "5 : 12.0\n",
      "14 : 11.981308411214954\n",
      "1 : 11.666666666666666\n",
      "8 : 10.729166666666666\n",
      "12 : 10.712328767123287\n",
      "7 : 10.617647058823529\n",
      "23 : 8.544117647058824\n",
      "4 : 8.27659574468085\n",
      "0 : 8.2\n",
      "9 : 7.311111111111111\n",
      "22 : 7.197183098591549\n",
      "3 : 6.925925925925926\n",
      "\n",
      "\n",
      "Average Points per Hour: 'Show HN' posts:\n",
      "23 : 42.388888888888886\n",
      "12 : 41.68852459016394\n",
      "22 : 40.34782608695652\n",
      "0 : 37.83870967741935\n",
      "18 : 36.31147540983606\n",
      "11 : 33.63636363636363\n",
      "19 : 30.945454545454545\n",
      "20 : 30.316666666666666\n",
      "15 : 28.564102564102566\n",
      "16 : 28.322580645161292\n",
      "17 : 27.107526881720432\n",
      "14 : 25.430232558139537\n",
      "3 : 25.14814814814815\n",
      "1 : 25.0\n",
      "13 : 24.626262626262626\n",
      "6 : 23.4375\n",
      "7 : 19.0\n",
      "10 : 18.916666666666668\n",
      "9 : 18.433333333333334\n",
      "21 : 18.425531914893618\n",
      "8 : 15.264705882352942\n",
      "4 : 14.846153846153847\n",
      "2 : 11.333333333333334\n",
      "5 : 5.473684210526316\n"
     ]
    }
   ],
   "source": [
    "# Creating a Dictionary storing the averages for each hour in for \"Ask HN\" posts and \"Show HN\" posts\n",
    "hour_average_points_per_post_ask = {k : (pandas_ask_posts.loc[pandas_ask_posts[\"created_at\"] == k, \"num_points\"].sum())/(pandas_ask_posts[\"created_at\"] == k).sum() for k in set(pandas_ask_posts[\"created_at\"].tolist())}\n",
    "hour_average_points_per_post_show = {k : (pandas_show_posts.loc[pandas_show_posts[\"created_at\"] == k, \"num_points\"].sum())/(pandas_show_posts[\"created_at\"] == k).sum() for k in set(pandas_show_posts[\"created_at\"].tolist())}\n",
    "\n",
    "# Sorting the dictionary based on hour with the highest average numher of comments\n",
    "sorted_ask_hour_avg = dict(sorted(hour_average_points_per_post_ask.items(), key = lambda x: x[1], reverse = True))\n",
    "sorted_show_hour_avg = dict(sorted(hour_average_points_per_post_show.items(), key = lambda x: x[1], reverse = True))\n",
    "\n",
    "print(\"Average Points per Hour: 'Ask HN' posts:\")\n",
    "for k,v in sorted_ask_hour_avg.items():\n",
    "    print(k, \":\", v)\n",
    "\n",
    "print(\"\\n\")\n",
    "\n",
    "print(\"Average Points per Hour: 'Show HN' posts:\")\n",
    "for k,v in sorted_show_hour_avg.items():\n",
    "    print(k, \":\", v)"
   ]
  },
  {
   "cell_type": "markdown",
   "metadata": {},
   "source": [
    "> \"Ask HN\" points receive the most average points of around 30 during 15:00. As expected, \"Show HN\" posts receive 29% more points on average than \"Ask HN\" posts\" for their respective highest performing hours (42 points vs. 29 points). 12:00 and 22:00 are also had very high average points. As previously discussed, posts regarding interesting projects are more likely to receive more upvotes than question posts, good or bad."
   ]
  },
  {
   "cell_type": "markdown",
   "metadata": {},
   "source": [
    "## Conclusion\n",
    "> Throughout this project, we discovered the different characteristics of \"Ask HN\" and \"Show HN\" \n",
    "posts. We determined that \"Ask HN\" posts tend to receive more comments while \"Show HN\" posts tend to receive more points. Both of these findings are coherent as the expected result of a pressing question is a rapid response (in the form of a comment in our case), which led to a higher average comment count for \"Ask HN\" posts. And users are also more likely to upvote posts regarding interesting topics (the equivalent to a \"like\" on Instagram or Facebook), which led to a higher average point count for \"Show HN\" posts."
   ]
  },
  {
   "cell_type": "code",
   "execution_count": 10,
   "metadata": {},
   "outputs": [
    {
     "data": {
      "text/html": [
       "<style>\n",
       ".nbviewer div.output_area {\n",
       "  overflow-y: auto;\n",
       "  max-height: 400px;\n",
       "}\n",
       "</style>\n"
      ],
      "text/plain": [
       "<IPython.core.display.HTML object>"
      ]
     },
     "metadata": {},
     "output_type": "display_data"
    }
   ],
   "source": [
    "%%html\n",
    "<style>\n",
    ".nbviewer div.output_area {\n",
    "  overflow-y: auto;\n",
    "  max-height: 400px;\n",
    "}\n",
    "</style>"
   ]
  }
 ],
 "metadata": {
  "kernelspec": {
   "display_name": "Python 3",
   "language": "python",
   "name": "python3"
  },
  "language_info": {
   "codemirror_mode": {
    "name": "ipython",
    "version": 3
   },
   "file_extension": ".py",
   "mimetype": "text/x-python",
   "name": "python",
   "nbconvert_exporter": "python",
   "pygments_lexer": "ipython3",
   "version": "3.8.8"
  }
 },
 "nbformat": 4,
 "nbformat_minor": 4
}
